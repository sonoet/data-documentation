{
 "cells": [
  {
   "cell_type": "markdown",
   "metadata": {},
   "source": [
    "# Unmapped MARC fields and subfields\n",
    "This notebook:\n",
    "* Documents MARC fields and subfields omitted from Argot mappings\n",
    "* Identifies MARC mapping decisions to be made, by analyzing current MARC specification (from http://www.loc.gov/marc/bibliographic/ecbdlist.html), Argot mappings documentation, and our mapping omission decisions"
   ]
  },
  {
   "cell_type": "markdown",
   "metadata": {},
   "source": [
    "First, run script to generate JSON hash of current MARC specification. If successful: \n",
    "* Out will = true\n",
    "* `marc_definition.json` is written to `data-documentation/marc` folder"
   ]
  },
  {
   "cell_type": "code",
   "execution_count": 7,
   "metadata": {},
   "outputs": [
    {
     "data": {
      "text/plain": [
       "true"
      ]
     },
     "execution_count": 7,
     "metadata": {},
     "output_type": "execute_result"
    }
   ],
   "source": [
    "require './extract_marc_bib_spec'"
   ]
  },
  {
   "cell_type": "code",
   "execution_count": 2,
   "metadata": {},
   "outputs": [
    {
     "name": "stdout",
     "output_type": "stream",
     "text": [
      "[\"MARC tag\", \"Subfield\", \"Field name\", \"Omission type\", \"Reason category\", \"More details\"]\n"
     ]
    }
   ],
   "source": [
    "require 'json'\n",
    "require 'simple_xlsx_reader'\n",
    "doc = SimpleXlsxReader.open('MARC_subfields_not_mapped.xlsx')\n",
    "data = doc.sheets.first.data\n",
    "puts doc.sheets.first.headers\n"
   ]
  },
  {
   "cell_type": "code",
   "execution_count": 12,
   "metadata": {},
   "outputs": [],
   "source": [
    "data_hash = data.map do |r|\n",
    "  { r[0].rjust(3,'0') => { \n",
    "      r[1] => {\n",
    "    \"omission_type\" => r[3],\n",
    "    \"omission_reason_category\" => r[4],\n",
    "    \"omission_details\" => r[5]\n",
    "      }\n",
    "    }\n",
    "  }\n",
    "end\n",
    "\n",
    "open('unmapped_marc_subfields.json', 'w'){ |f| f.puts JSON.pretty_generate(data_hash)}\n"
   ]
  },
  {
   "cell_type": "code",
   "execution_count": null,
   "metadata": {},
   "outputs": [],
   "source": []
  }
 ],
 "metadata": {
  "kernelspec": {
   "display_name": "Ruby 2.4.2",
   "language": "ruby",
   "name": "ruby"
  },
  "language_info": {
   "file_extension": ".rb",
   "mimetype": "application/x-ruby",
   "name": "ruby",
   "version": "2.4.2"
  }
 },
 "nbformat": 4,
 "nbformat_minor": 2
}
