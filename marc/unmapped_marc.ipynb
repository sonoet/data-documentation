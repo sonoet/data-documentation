{
 "cells": [
  {
   "cell_type": "markdown",
   "metadata": {},
   "source": [
    "The following block refreshes "
   ]
  },
  {
   "cell_type": "code",
   "execution_count": 31,
   "metadata": {},
   "outputs": [],
   "source": [
    "require 'json'\n",
    "require 'simple_xlsx_reader'\n",
    "doc = SimpleXlsxReader.open('../marc/MARC_fields_not_mapped.xlsx')\n",
    "data = doc.sheets.first.data\n",
    "\n",
    "data_hash = data.map do |r|\n",
    "  { r[0] => {\n",
    "    \"omission_type\" => r[2],\n",
    "    \"omission_reason_category\" => r[3],\n",
    "    \"omission_details\" => r[4]\n",
    "    }\n",
    "}\n",
    "end\n",
    "\n",
    "open('../marc/unmapped_marc_tags.json', 'w'){ |f| f.puts JSON.pretty_generate(data_hash)}\n"
   ]
  },
  {
   "cell_type": "code",
   "execution_count": null,
   "metadata": {},
   "outputs": [],
   "source": []
  }
 ],
 "metadata": {
  "kernelspec": {
   "display_name": "Ruby 2.4.2",
   "language": "ruby",
   "name": "ruby"
  },
  "language_info": {
   "file_extension": ".rb",
   "mimetype": "application/x-ruby",
   "name": "ruby",
   "version": "2.4.2"
  }
 },
 "nbformat": 4,
 "nbformat_minor": 2
}
