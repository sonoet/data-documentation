{
 "cells": [
  {
   "cell_type": "markdown",
   "metadata": {},
   "source": [
    "# Unmapped MARC fields and subfields\n",
    "This notebook:\n",
    "* Documents MARC fields and subfields omitted from Argot mappings\n",
    "* Identifies MARC mapping decisions to be made, by analyzing:\n",
    " * current MARC specification from http://www.loc.gov/marc/bibliographic/ecbdlist.html \n",
    " * Argot mappings from https://github.com/trln/data-documentation/blob/master/argot/argot.xlsx\n",
    " * Our explicit field and subfield omission decisions \n",
    "\n",
    "MARC fields we have decided to exclude from Argot mappings are recorded in [`unmapped_marc_tags.json`](https://github.com/trln/data-documentation/blob/master/marc/unmapped_marc_tags.json).\n",
    "\n",
    "Specific MARC subfields excluded from Argot mappings *when some subfields from the field ARE mapped* are recorded in [`unmapped_marc_subfields.json`](https://github.com/trln/data-documentation/blob/master/marc/unmapped_marc_subfields.json)."
   ]
  },
  {
   "cell_type": "markdown",
   "metadata": {},
   "source": [
    "## Use the current MARC specification\n",
    "First, run script to generate JSON hash of current MARC specification. If successful: \n",
    "* Out will = true\n",
    "* `marc_definition.json` is written to `data-documentation/marc` folder"
   ]
  },
  {
   "cell_type": "code",
   "execution_count": 63,
   "metadata": {},
   "outputs": [
    {
     "data": {
      "text/plain": [
       "false"
      ]
     },
     "execution_count": 63,
     "metadata": {},
     "output_type": "execute_result"
    }
   ],
   "source": [
    "require './extract_marc_bib_spec'"
   ]
  },
  {
   "cell_type": "markdown",
   "metadata": {},
   "source": [
    "## Get all our mappings data\n",
    "This next bit just reads in all the data we'll need: \n",
    "* `marc_spec` is the updated MARC specification created in the previous step\n",
    "* `unmapped_fields` is our explicit decisions about MARC fields not mapped to Argot\n",
    "* `unmapped_subfields` is our explicit decisions about individual MARC subfields not mapped to Argot. These subfields all occur in MARC fields that are otherwise mapped to Argot. "
   ]
  },
  {
   "cell_type": "code",
   "execution_count": 92,
   "metadata": {},
   "outputs": [
    {
     "name": "stdout",
     "output_type": "stream",
     "text": [
      "\n"
     ]
    }
   ],
   "source": [
    "marc_spec = JSON.parse(File.read('marc_definition.json'))\n",
    "unmapped_fields = JSON.parse(File.read('unmapped_marc_tags.json'))\n",
    "unmapped_subfields = JSON.parse(File.read('unmapped_marc_subfields.json'))\n",
    "puts ''"
   ]
  },
  {
   "cell_type": "markdown",
   "metadata": {},
   "source": [
    "Next get our current MARC-to-Argot mappings from Argot spreadsheet and turn this into a hash we can use:"
   ]
  },
  {
   "cell_type": "code",
   "execution_count": 93,
   "metadata": {},
   "outputs": [
    {
     "name": "stdout",
     "output_type": "stream",
     "text": [
      "\n"
     ]
    }
   ],
   "source": [
    "require 'simple_xlsx_reader'\n",
    "doc = SimpleXlsxReader.open('../argot/argot.xlsx')\n",
    "mappings_d = doc.sheets[1].data\n",
    "mappings_h = doc.sheets[1].headers\n",
    "marc_only = mappings_d.select{ |r| r[2] == \"MARC\"}.map{ |r| [r[5].rjust(3,'0'), r[6], r[3]] }\n",
    "# Remove mappings for fixed fields and those where data is a constant\n",
    "marc_only.reject!{ |r| r[0] =~ /(00[678]|\\{na\\})/}\n",
    "# Change {na}, {varies}, period, space, or parentheses in subfield list to nothing\n",
    "marc_only.map!{ |r| [r[0], r[1].gsub(/\\{(na|varies)\\}|[.() ]/, ''), r[2]]}\n",
    "# Convert subfield list to array\n",
    "marc_only.map!{ |r| [r[0], r[1].split(''), r[2]]}\n",
    "# explode mappings list, so there's one array per subfield value\n",
    "# orig: [\"111\", [\"j\", \"4\"], \"n\"]\n",
    "# new: [\"111\", \"j\", \"n\"], [\"111\", 4\", \"n\"]\n",
    "flat_mappings = []\n",
    "marc_only.each do |r|  \n",
    "  r[1].each { |sf| flat_mappings << [r[0], sf, r[2]] }\n",
    "end\n",
    "mapping_hash = {}\n",
    "flat_mappings.uniq!.each do |r|\n",
    "  if mapping_hash.has_key?(r[0])\n",
    "    mapping_hash[r[0]][r[1]] = r[2]\n",
    "  else\n",
    "    mapping_hash[r[0]] = {r[1] => r[2]}\n",
    "  end\n",
    "end\n",
    "puts ''"
   ]
  },
  {
   "cell_type": "markdown",
   "metadata": {},
   "source": [
    "The above creates a hash with the following basic format: \n",
    "\n",
    "```\n",
    "{\n",
    " \"581\": {\n",
    "    \"a\": \"n\",\n",
    "    \"z\": \"n\",\n",
    "    \"3\": \"n\"\n",
    "  },\n",
    "  ...\n",
    "}\n",
    "```\n",
    "\n",
    "Subfields a, z, and 3 from the 581 field are mapped to Argot. \n",
    "\n",
    "The \"n\" at the end of each subfield line means these are final mappings for production. \"y\" in this position indicates a provisional mapping, which may not yet be implemented or which is subject to major changes."
   ]
  },
  {
   "cell_type": "markdown",
   "metadata": {},
   "source": [
    "## Unmapped MARC, field tag level"
   ]
  },
  {
   "cell_type": "markdown",
   "metadata": {},
   "source": [
    "### Explicit decisions and justifications\n",
    "The block below reports on the fields we've explicitly decided not to map."
   ]
  },
  {
   "cell_type": "code",
   "execution_count": 66,
   "metadata": {},
   "outputs": [
    {
     "data": {
      "text/html": [
       "<table><tr><th>MARC tag</th><th>Name</th><th>Omission type</th><th>Omission category</th><th>Details</th></tr><tr><td>306</td><td>PLAYING TIME </td><td>permanent</td><td>data unusable</td><td>Usually duplicates data recorded in 300 and/or 505. Recorded in a cryptic manner and there's no way to specify which duration recorded goes with which part of the described item, if it's a multi-part thing</td></tr><tr><td>307</td><td>HOURS, ETC. </td><td>permanent</td><td>irrelevant</td><td>No fields in UNC catalog. Hours an item is available is kind of a weird concept in the catalog, too.</td></tr><tr><td>336</td><td>CONTENT TYPE </td><td>temporary</td><td>low priority</td><td>Terms used are not user-friendly; this information is usually better expressed elsewhere in the record</td></tr><tr><td>337</td><td>MEDIA TYPE </td><td>temporary</td><td>low priority</td><td>Terms used are not user-friendly; this information is usually better expressed elsewhere in the record</td></tr><tr><td>338</td><td>CARRIER TYPE </td><td>temporary</td><td>low priority</td><td>Terms used are not user-friendly; this information is usually better expressed elsewhere in the record</td></tr><tr><td>342</td><td>GEOSPATIAL REFERENCE DATA </td><td>temporary</td><td>low priority</td><td>Complex data mapping; appears in <2000 records in UNC catalog on 2018-05-21. Need to assess if this adds useful info, and if so, how to map.</td></tr><tr><td>343</td><td>PLANAR COORDINATE DATA </td><td>temporary</td><td>infrequently used</td><td>only 2 records in UNC catalog</td></tr><tr><td>348</td><td>FORMAT OF NOTATED MUSIC </td><td>temporary</td><td>low priority</td><td>Look into whether it should map to genre</td></tr><tr><td>355</td><td>SECURITY CLASSIFICATION CONTROL </td><td>permanent</td><td>irrelevant</td><td>No records in UNC catalog</td></tr><tr><td>357</td><td>ORIGINATOR DISSEMINATION CONTROL </td><td>permanent</td><td>irrelevant</td><td>No records in UNC catalog</td></tr><tr><td>363</td><td>NORMALIZED DATE AND SEQUENTIAL DESIGNATION </td><td>permanent</td><td>data unusable</td><td>Holdings-like hell format specifying exact dates; only 10 in UNC catalog, most look like they should be 362s</td></tr><tr><td>370</td><td>ASSOCIATED PLACE </td><td>temporary</td><td>infrequently used</td><td>22 fields in UNC catalog -- maybe one day map to a subject-ish geographical entry or something?</td></tr><tr><td>377</td><td>ASSOCIATED LANGUAGE </td><td>temporary</td><td>infrequently used</td><td>1 field in UNC catalog -- maybe one day map to language facet if it adds unique info</td></tr><tr><td>380</td><td>FORM OF WORK </td><td>temporary</td><td>low priority</td><td>Look into mapping to genre</td></tr><tr><td>381</td><td>OTHER DISTINGUISHING CHARACTERISTICS OF WORK OR EXPRESSION </td><td>permanent</td><td>data unusable</td><td>Mishmash of different kinds of data issuing body, arranged statement of music, version, or a geographic term with no coding that tells you what the data is</td></tr><tr><td>383</td><td>NUMERIC DESIGNATION OF MUSICAL WORK </td><td>permanent</td><td>duplicate data</td><td>Currently duplicates data recorded in other parts of the record, particularly 130 and 240 fields.</td></tr><tr><td>385</td><td>AUDIENCE CHARACTERISTICS </td><td>temporary</td><td>low priority</td><td>Look into mapping to `note_general` with label `For audiences`</td></tr><tr><td>386</td><td>CREATOR/CONTRIBUTOR CHARACTERISTICS </td><td>temporary</td><td>infrequently used</td><td>Could eventually leverage in some \"Works by\" field, but only 248 fields in UNC's catalog today 2018-05-18</td></tr><tr><td>388</td><td>TIME PERIOD OF CREATION </td><td>temporary</td><td>infrequently used</td><td>Only 3 fields in UNC catalog on 2018-05-18. Eventually could be mapped as a chronological subect or something. </td></tr></table>"
      ],
      "text/plain": [
       "\"<table><tr><th>MARC tag</th><th>Name</th><th>Omission type</th><th>Omission category</th><th>Details</th></tr><tr><td>306</td><td>PLAYING TIME </td><td>permanent</td><td>data unusable</td><td>Usually duplicates data recorded in 300 and/or 505. Recorded in a cryptic manner and there's no way to specify which duration recorded goes with which part of the described item, if it's a multi-part thing</td></tr><tr><td>307</td><td>HOURS, ETC. </td><td>permanent</td><td>irrelevant</td><td>No fields in UNC catalog. Hours an item is available is kind of a weird concept in the catalog, too.</td></tr><tr><td>336</td><td>CONTENT TYPE </td><td>temporary</td><td>low priority</td><td>Terms used are not user-friendly; this information is usually better expressed elsewhere in the record</td></tr><tr><td>337</td><td>MEDIA TYPE </td><td>temporary</td><td>low priority</td><td>Terms used are not user-friendly; this information is usually better expressed elsewhere in the record</td></tr><tr><td>338</td><td>CARRIER TYPE </td><td>temporary</td><td>low priority</td><td>Terms used are not user-friendly; this information is usually better expressed elsewhere in the record</td></tr><tr><td>342</td><td>GEOSPATIAL REFERENCE DATA </td><td>temporary</td><td>low priority</td><td>Complex data mapping; appears in <2000 records in UNC catalog on 2018-05-21. Need to assess if this adds useful info, and if so, how to map.</td></tr><tr><td>343</td><td>PLANAR COORDINATE DATA </td><td>temporary</td><td>infrequently used</td><td>only 2 records in UNC catalog</td></tr><tr><td>348</td><td>FORMAT OF NOTATED MUSIC </td><td>temporary</td><td>low priority</td><td>Look into whether it should map to genre</td></tr><tr><td>355</td><td>SECURITY CLASSIFICATION CONTROL </td><td>permanent</td><td>irrelevant</td><td>No records in UNC catalog</td></tr><tr><td>357</td><td>ORIGINATOR DISSEMINATION CONTROL </td><td>permanent</td><td>irrelevant</td><td>No records in UNC catalog</td></tr><tr><td>363</td><td>NORMALIZED DATE AND SEQUENTIAL DESIGNATION </td><td>permanent</td><td>data unusable</td><td>Holdings-like hell format specifying exact dates; only 10 in UNC catalog, most look like they should be 362s</td></tr><tr><td>370</td><td>ASSOCIATED PLACE </td><td>temporary</td><td>infrequently used</td><td>22 fields in UNC catalog -- maybe one day map to a subject-ish geographical entry or something?</td></tr><tr><td>377</td><td>ASSOCIATED LANGUAGE </td><td>temporary</td><td>infrequently used</td><td>1 field in UNC catalog -- maybe one day map to language facet if it adds unique info</td></tr><tr><td>380</td><td>FORM OF WORK </td><td>temporary</td><td>low priority</td><td>Look into mapping to genre</td></tr><tr><td>381</td><td>OTHER DISTINGUISHING CHARACTERISTICS OF WORK OR EXPRESSION </td><td>permanent</td><td>data unusable</td><td>Mishmash of different kinds of data issuing body, arranged statement of music, version, or a geographic term with no coding that tells you what the data is</td></tr><tr><td>383</td><td>NUMERIC DESIGNATION OF MUSICAL WORK </td><td>permanent</td><td>duplicate data</td><td>Currently duplicates data recorded in other parts of the record, particularly 130 and 240 fields.</td></tr><tr><td>385</td><td>AUDIENCE CHARACTERISTICS </td><td>temporary</td><td>low priority</td><td>Look into mapping to `note_general` with label `For audiences`</td></tr><tr><td>386</td><td>CREATOR/CONTRIBUTOR CHARACTERISTICS </td><td>temporary</td><td>infrequently used</td><td>Could eventually leverage in some \\\"Works by\\\" field, but only 248 fields in UNC's catalog today 2018-05-18</td></tr><tr><td>388</td><td>TIME PERIOD OF CREATION </td><td>temporary</td><td>infrequently used</td><td>Only 3 fields in UNC catalog on 2018-05-18. Eventually could be mapped as a chronological subect or something. </td></tr></table>\""
      ]
     },
     "metadata": {},
     "output_type": "display_data"
    },
    {
     "data": {
      "text/plain": [
       "#<CZTop::Socket::PUB:0x1ac82b0 last_endpoint=\"tcp://127.0.0.1:59847\">"
      ]
     },
     "execution_count": 66,
     "metadata": {},
     "output_type": "execute_result"
    }
   ],
   "source": [
    "unmapped_tag_table = { 'MARC tag' => [],\n",
    "                       'Name' => [],\n",
    "                       'Omission type' => [],\n",
    "                       'Omission category' => [],\n",
    "                       'Details' => []\n",
    "                     }\n",
    "unmapped_fields.sort.each do |tag, info|\n",
    "  unmapped_tag_table['MARC tag'] << tag\n",
    "  unmapped_tag_table['Name'] << marc_spec[tag]['name']\n",
    "  unmapped_tag_table['Omission type'] << info['omission_type']\n",
    "  unmapped_tag_table['Omission category'] << info['omission_reason_category']\n",
    "  unmapped_tag_table['Details'] << info['omission_details']\n",
    "end\n",
    "IRuby.display IRuby.table(unmapped_tag_table, maxrows: 100)"
   ]
  },
  {
   "cell_type": "markdown",
   "metadata": {},
   "source": [
    "### Unmapped MARC fields without recorded decision and/or justification\n",
    "And the following lists all other **non-obsolete, non-local** unmapped MARC variable fields we haven't made an explicit decision about:"
   ]
  },
  {
   "cell_type": "code",
   "execution_count": 95,
   "metadata": {},
   "outputs": [
    {
     "name": "stdout",
     "output_type": "stream",
     "text": [
      "\n"
     ]
    }
   ],
   "source": [
    "unmapped = {}\n",
    "marc_spec.each do |tag, info|\n",
    "  if mapping_hash.has_key?(tag)\n",
    "    next\n",
    "  elsif unmapped_fields.has_key?(tag)\n",
    "    next\n",
    "  elsif tag =~ /00[356789]/\n",
    "    next\n",
    "  elsif info['context'] =~ /OBSOLETE|LOCAL/\n",
    "  else\n",
    "    unmapped[tag] = {'name' => info['name'].strip,\n",
    "                     'context' => info['context']\n",
    "      }\n",
    "  end\n",
    "end\n",
    "\n",
    "table2 = { 'MARC tag' => [],\n",
    "           'Description' => [],\n",
    "           'Note' => []\n",
    "         }\n",
    "unmapped.sort.each do |tag, info|\n",
    "  table2['MARC tag'] << tag\n",
    "  table2['Description'] << info['name']\n",
    "  table2['Note'] << info['context']\n",
    "end\n",
    "puts ''"
   ]
  },
  {
   "cell_type": "markdown",
   "metadata": {},
   "source": [
    "Number of unmapped MARC tags:"
   ]
  },
  {
   "cell_type": "code",
   "execution_count": null,
   "metadata": {},
   "outputs": [],
   "source": [
    "puts table2['MARC tag'].size"
   ]
  },
  {
   "cell_type": "code",
   "execution_count": null,
   "metadata": {},
   "outputs": [],
   "source": [
    "IRuby.display IRuby.table(table2, maxrows: 100)"
   ]
  },
  {
   "cell_type": "markdown",
   "metadata": {},
   "source": [
    "## Unmapped MARC, subfield level\n",
    "Here, we are looking at subfields in MARC fields that are at least partly mapped to Argot. \n",
    "What subfields in such partially mapped fields are **not** mapped to Argot? \n",
    "\n",
    "### Explicit subfield exclusion decisions:"
   ]
  },
  {
   "cell_type": "code",
   "execution_count": 68,
   "metadata": {},
   "outputs": [
    {
     "data": {
      "text/html": [
       "<table><tr><th>MARC tag</th><th>Subfield code</th><th>Field name</th><th>Subfield name</th><th>Omission type</th><th>Omission category</th><th>Details</th></tr><tr><td>022</td><td>m</td><td>INTERNATIONAL STANDARD SERIAL NUMBER </td><td>Canceled ISSN-L</td><td></td><td></td><td></td></tr><tr><td>022</td><td>y</td><td>INTERNATIONAL STANDARD SERIAL NUMBER </td><td>Incorrect ISSN</td><td></td><td></td><td></td></tr><tr><td>022</td><td>z</td><td>INTERNATIONAL STANDARD SERIAL NUMBER </td><td>Canceled ISSN</td><td></td><td></td><td></td></tr><tr><td>567</td><td>b</td><td>METHODOLOGY NOTE </td><td>Controlled term</td><td>temporary</td><td>low priority</td><td>UNC has no data in this subfield. Consider mapping to genre_headings and subject_genre if ever meaningfully populated</td></tr></table>"
      ],
      "text/plain": [
       "\"<table><tr><th>MARC tag</th><th>Subfield code</th><th>Field name</th><th>Subfield name</th><th>Omission type</th><th>Omission category</th><th>Details</th></tr><tr><td>022</td><td>m</td><td>INTERNATIONAL STANDARD SERIAL NUMBER </td><td>Canceled ISSN-L</td><td></td><td></td><td></td></tr><tr><td>022</td><td>y</td><td>INTERNATIONAL STANDARD SERIAL NUMBER </td><td>Incorrect ISSN</td><td></td><td></td><td></td></tr><tr><td>022</td><td>z</td><td>INTERNATIONAL STANDARD SERIAL NUMBER </td><td>Canceled ISSN</td><td></td><td></td><td></td></tr><tr><td>567</td><td>b</td><td>METHODOLOGY NOTE </td><td>Controlled term</td><td>temporary</td><td>low priority</td><td>UNC has no data in this subfield. Consider mapping to genre_headings and subject_genre if ever meaningfully populated</td></tr></table>\""
      ]
     },
     "metadata": {},
     "output_type": "display_data"
    },
    {
     "data": {
      "text/plain": [
       "#<CZTop::Socket::PUB:0x1ac82b0 last_endpoint=\"tcp://127.0.0.1:59847\">"
      ]
     },
     "execution_count": 68,
     "metadata": {},
     "output_type": "execute_result"
    }
   ],
   "source": [
    "unmapped_sf_table = { 'MARC tag' => [],\n",
    "                      'Subfield code' => [],\n",
    "                       'Field name' => [],\n",
    "                       'Subfield name' => [],\n",
    "                       'Omission type' => [],\n",
    "                       'Omission category' => [],\n",
    "                       'Details' => []\n",
    "                     }\n",
    "unmapped_subfields.sort.each do |tag, sfs|\n",
    "  sfs.each do |code, info|\n",
    "    unmapped_sf_table['MARC tag'] << tag\n",
    "    unmapped_sf_table['Subfield code'] << code\n",
    "    unmapped_sf_table['Field name'] << marc_spec[tag]['name']\n",
    "    unmapped_sf_table['Subfield name'] << marc_spec[tag]['subfields'][code]['name']\n",
    "    unmapped_sf_table['Omission type'] << info['omission_type']\n",
    "    unmapped_sf_table['Omission category'] << info['omission_reason_category']\n",
    "    unmapped_sf_table['Details'] << info['omission_details']\n",
    "  end\n",
    "end\n",
    "IRuby.display IRuby.table(unmapped_sf_table, maxrows: 100)"
   ]
  },
  {
   "cell_type": "markdown",
   "metadata": {},
   "source": [
    "### Unmapped subfields from MARC specification\n",
    "These subfields may have been overlooked. If an explicit decision has been made to exclude this subfield from mapping to Argot, that decision should be documented in https://github.com/trln/data-documentation/blob/master/marc/unmapped_marc_subfields.json\n",
    "\n",
    "Ignores: \n",
    "* Obsolete or local subfields\n",
    "* Subfield 0 where subfield name = Authority record control number or standard number\n",
    "* Subfield 1 where subfield name = Real World Object URI\n",
    "* Subfield 2 where subfield name starts with Source\n",
    "* Subfield 6 where subfield name = Linkage\n",
    "* Subfield 8 where subfield name = Field link and sequence number\n",
    "\n",
    "First we flatten out all subfield data so it's easier to work with:"
   ]
  },
  {
   "cell_type": "code",
   "execution_count": 86,
   "metadata": {},
   "outputs": [
    {
     "name": "stdout",
     "output_type": "stream",
     "text": [
      "2491\n"
     ]
    }
   ],
   "source": [
    "subfields = []\n",
    "marc_spec.each do |tag, info|\n",
    "  if info['subfields'].size > 0\n",
    "    info['subfields'].each do |code, sfinfo|\n",
    "      subfields << {'tag' => tag,\n",
    "        'code' => code,\n",
    "        'name' => \"#{info['name']} - #{sfinfo['name']}\",\n",
    "        'context' => sfinfo['context']}      \n",
    "    end\n",
    "  end\n",
    "end\n",
    "\n",
    "puts subfields.size"
   ]
  },
  {
   "cell_type": "markdown",
   "metadata": {},
   "source": [
    "Then, get rid of subfields that are in unmapped MARC fields. Keep only those whose field tag appears in our mappings spreadsheet."
   ]
  },
  {
   "cell_type": "code",
   "execution_count": 87,
   "metadata": {},
   "outputs": [
    {
     "name": "stdout",
     "output_type": "stream",
     "text": [
      "1491\n"
     ]
    }
   ],
   "source": [
    "subfields.select!{ |sf| mapping_hash.has_key?(sf['tag']) }\n",
    "puts subfields.size"
   ]
  },
  {
   "cell_type": "markdown",
   "metadata": {},
   "source": [
    "Then, remove:\n",
    "* Obsolete or local subfields\n",
    "* Subfield 0 where subfield name = Authority record control number or standard number\n",
    "* Subfield 1 where subfield name = Real World Object URI\n",
    "* Subfield 2 where subfield name starts with Source\n",
    "* Subfield 6 where subfield name = Linkage\n",
    "* Subfield 7 where subfield name = Control subfield\n",
    "* Subfield 8 where subfield name = Field link and sequence number"
   ]
  },
  {
   "cell_type": "code",
   "execution_count": 88,
   "metadata": {},
   "outputs": [
    {
     "name": "stdout",
     "output_type": "stream",
     "text": [
      "1102\n"
     ]
    }
   ],
   "source": [
    "subfields.reject!{ |sf| sf['code'] == '0' && sf['name'] =~ / - Authority record control number/  }\n",
    "subfields.reject!{ |sf| sf['code'] == '1' && sf['name'] =~ / - Real World Object URI/ }\n",
    "subfields.reject!{ |sf| sf['code'] == '2' && sf['name'] =~ / - Source/ }\n",
    "subfields.reject!{ |sf| sf['code'] == '6' && sf['name'] =~ / - Linkage/ }\n",
    "subfields.reject!{ |sf| sf['code'] == '7' && sf['name'] =~ / - Control subfield/ }\n",
    "subfields.reject!{ |sf| sf['code'] == '8' && sf['name'] =~ / - Field link and sequence number/ }\n",
    "subfields.reject!{ |sf| sf['context'] =~ /OBSOLETE|LOCAL/ }\n",
    "puts subfields.size"
   ]
  },
  {
   "cell_type": "markdown",
   "metadata": {},
   "source": [
    "Then, remove subfields we have mapped in Argot spreadsheet:"
   ]
  },
  {
   "cell_type": "code",
   "execution_count": 89,
   "metadata": {},
   "outputs": [
    {
     "name": "stdout",
     "output_type": "stream",
     "text": [
      "150\n"
     ]
    }
   ],
   "source": [
    "subfields.reject!{ |sf| mapping_hash.has_key?(sf['tag']) && mapping_hash[sf['tag']].has_key?(sf['code']) }\n",
    "puts subfields.size"
   ]
  },
  {
   "cell_type": "markdown",
   "metadata": {},
   "source": [
    "Then, output the remaining unmapped subfields to a table for analysis:"
   ]
  },
  {
   "cell_type": "code",
   "execution_count": 90,
   "metadata": {},
   "outputs": [
    {
     "data": {
      "text/html": [
       "<table><tr><th>MARC tag</th><th>subfield code</th><th>name</th></tr><tr><td>015</td><td>z</td><td>NATIONAL BIBLIOGRAPHY NUMBER  - Canceled/Invalid national bibliography number</td></tr><tr><td>020</td><td>c</td><td>INTERNATIONAL STANDARD BOOK NUMBER  - Terms of availability</td></tr><tr><td>022</td><td>m</td><td>INTERNATIONAL STANDARD SERIAL NUMBER  - Canceled ISSN-L</td></tr><tr><td>022</td><td>y</td><td>INTERNATIONAL STANDARD SERIAL NUMBER  - Incorrect ISSN</td></tr><tr><td>022</td><td>z</td><td>INTERNATIONAL STANDARD SERIAL NUMBER  - Canceled ISSN</td></tr><tr><td>024</td><td>c</td><td>OTHER STANDARD IDENTIFIER  - Terms of availability</td></tr><tr><td>028</td><td>a</td><td>PUBLISHER NUMBER OR DISTRIBUTOR NUMBER  - Publisher or distributor number</td></tr><tr><td>035</td><td>z</td><td>SYSTEM CONTROL NUMBER  - Canceled/invalid control number</td></tr><tr><td>041</td><td>b</td><td>LANGUAGE CODE  - Language code of summary or abstract</td></tr><tr><td>041</td><td>f</td><td>LANGUAGE CODE  - Language code of table of contents</td></tr><tr><td>041</td><td>h</td><td>LANGUAGE CODE  - Language code of original</td></tr><tr><td>041</td><td>j</td><td>LANGUAGE CODE  - Language code of subtitles or captions</td></tr><tr><td>041</td><td>k</td><td>LANGUAGE CODE  - Language code of intermediate translations</td></tr><tr><td>041</td><td>m</td><td>LANGUAGE CODE  - Language code of original accompanying materials other than librettos</td></tr><tr><td>041</td><td>n</td><td>LANGUAGE CODE  - Language code of original libretto</td></tr><tr><td>210</td><td>b</td><td>ABBREVIATED TITLE  - Qualifying information</td></tr><tr><td>245</td><td>h</td><td>TITLE STATEMENT  - Medium</td></tr><tr><td>246</td><td>5</td><td>VARYING FORM OF TITLE  - Institution to which field applies</td></tr><tr><td>340</td><td>3</td><td>PHYSICAL MEDIUM  - Materials specified</td></tr><tr><td>344</td><td>3</td><td>SOUND CHARACTERISTICS  - Materials specified</td></tr><tr><td>345</td><td>3</td><td>PROJECTION CHARACTERISTICS OF MOVING IMAGE  - Materials specified</td></tr><tr><td>346</td><td>3</td><td>VIDEO CHARACTERISTICS  - Materials specified</td></tr><tr><td>347</td><td>3</td><td>DIGITAL FILE CHARACTERISTICS  - Materials specified</td></tr><tr><td>382</td><td>e</td><td>MEDIUM OF PERFORMANCE  - Number of ensembles of the same type</td></tr><tr><td>382</td><td>n</td><td>MEDIUM OF PERFORMANCE  - Number of performers of the same medium</td></tr><tr><td>382</td><td>r</td><td>MEDIUM OF PERFORMANCE  - Total number of individuals performing alongside ensembles</td></tr><tr><td>382</td><td>s</td><td>MEDIUM OF PERFORMANCE  - Total number of performers</td></tr><tr><td>382</td><td>t</td><td>MEDIUM OF PERFORMANCE  - Total number of ensembles</td></tr><tr><td>382</td><td>v</td><td>MEDIUM OF PERFORMANCE  - Note</td></tr><tr><td>382</td><td>3</td><td>MEDIUM OF PERFORMANCE  - Materials specified</td></tr><tr><td>383</td><td>a</td><td>NUMERIC DESIGNATION OF MUSICAL WORK  - Serial number</td></tr><tr><td>383</td><td>b</td><td>NUMERIC DESIGNATION OF MUSICAL WORK  - Opus number</td></tr><tr><td>383</td><td>c</td><td>NUMERIC DESIGNATION OF MUSICAL WORK  - Thematic index number</td></tr><tr><td>383</td><td>e</td><td>NUMERIC DESIGNATION OF MUSICAL WORK  - Publisher associated with opus number</td></tr><tr><td>383</td><td>3</td><td>NUMERIC DESIGNATION OF MUSICAL WORK  - Materials secified</td></tr><tr><td>384</td><td>3</td><td>KEY  - Materials specified</td></tr><tr><td>500</td><td>5</td><td>GENERAL NOTE  - Institution to which field applies</td></tr><tr><td>501</td><td>5</td><td>WITH NOTE  - Institution to which field applies</td></tr><tr><td>502</td><td>o</td><td>DISSERTATION NOTE  - Dissertation identifier</td></tr><tr><td>505</td><td>u</td><td>FORMATTED CONTENTS NOTE  - Uniform Resource Identifier</td></tr><tr><td>506</td><td>5</td><td>RESTRICTIONS ON ACCESS NOTE  - Institution to which field applies</td></tr><tr><td>520</td><td>u</td><td>SUMMARY, ETC.  - Uniform Resource Identifier</td></tr><tr><td>526</td><td>i</td><td>STUDY PROGRAM INFORMATION NOTE  - Display text</td></tr><tr><td>526</td><td>x</td><td>STUDY PROGRAM INFORMATION NOTE  - Nonpublic note</td></tr><tr><td>526</td><td>5</td><td>STUDY PROGRAM INFORMATION NOTE  - Institution to which field applies</td></tr><tr><td>533</td><td>5</td><td>REPRODUCTION NOTE  - Institution to which field applies</td></tr><tr><td>533</td><td>7</td><td>REPRODUCTION NOTE  - Fixed-length data elements of reproduction</td></tr><tr><td>538</td><td>5</td><td>SYSTEM DETAILS NOTE  - Institution to which field applies</td></tr><tr><td>541</td><td>5</td><td>IMMEDIATE SOURCE OF ACQUISITION NOTE  - Institution to which field applies</td></tr><tr><td>556</td><td>z</td><td>INFORMATION ABOUT DOCUMENTATION NOTE  - International Standard Book Number</td></tr><tr><td>561</td><td>u</td><td>OWNERSHIP AND CUSTODIAL HISTORY  - Uniform Resource Identifier</td></tr><tr><td>561</td><td>5</td><td>OWNERSHIP AND CUSTODIAL HISTORY  - Institution to which field applies</td></tr><tr><td>562</td><td>5</td><td>COPY AND VERSION IDENTIFICATION NOTE  - Institution to which field applies</td></tr><tr><td>563</td><td>5</td><td>BINDING INFORMATION  - Institution to which field applies</td></tr><tr><td>585</td><td>5</td><td>EXHIBITIONS NOTE  - Institution to which field applies</td></tr><tr><td>590</td><td>b</td><td>RECEIPT DATE NOTE  - Provenance</td></tr><tr><td>590</td><td>d</td><td>RECEIPT DATE NOTE  - Origin of safety copy</td></tr><tr><td>600</td><td>e</td><td>SUBJECT ADDED ENTRY--PERSONAL NAME  - Relator term</td></tr><tr><td>600</td><td>3</td><td>SUBJECT ADDED ENTRY--PERSONAL NAME  - Materials specified</td></tr><tr><td>600</td><td>4</td><td>SUBJECT ADDED ENTRY--PERSONAL NAME  - Relationship</td></tr><tr><td>610</td><td>e</td><td>SUBJECT ADDED ENTRY--CORPORATE NAME  - Relator term</td></tr><tr><td>610</td><td>3</td><td>SUBJECT ADDED ENTRY--CORPORATE NAME  - Materials specified</td></tr><tr><td>610</td><td>4</td><td>SUBJECT ADDED ENTRY--CORPORATE NAME  - Relationship</td></tr><tr><td>611</td><td>j</td><td>SUBJECT ADDED ENTRY--MEETING NAME  - Relator term</td></tr><tr><td>611</td><td>3</td><td>SUBJECT ADDED ENTRY--MEETING NAME  - Materials specified</td></tr><tr><td>611</td><td>4</td><td>SUBJECT ADDED ENTRY--MEETING NAME  - Relationship</td></tr><tr><td>630</td><td>e</td><td>SUBJECT ADDED ENTRY--UNIFORM TITLE  - Relator term</td></tr><tr><td>630</td><td>3</td><td>SUBJECT ADDED ENTRY--UNIFORM TITLE  - Materials specified</td></tr><tr><td>630</td><td>4</td><td>SUBJECT ADDED ENTRY--UNIFORM TITLE  - Relationship</td></tr><tr><td>647</td><td>3</td><td>SUBJECT ADDED ENTRY--NAMED EVENT  - Materials specified</td></tr><tr><td>648</td><td>3</td><td>SUBJECT ADDED ENTRY--CHRONOLOGICAL TERM  - Materials specified</td></tr><tr><td>650</td><td>e</td><td>SUBJECT ADDED ENTRY--TOPICAL TERM  - Relator term</td></tr><tr><td>650</td><td>3</td><td>SUBJECT ADDED ENTRY--TOPICAL TERM  - Materials specified</td></tr><tr><td>650</td><td>4</td><td>SUBJECT ADDED ENTRY--TOPICAL TERM  - Relationship</td></tr><tr><td>651</td><td>e</td><td>SUBJECT ADDED ENTRY--GEOGRAPHIC NAME  - Relator term</td></tr><tr><td>651</td><td>3</td><td>SUBJECT ADDED ENTRY--GEOGRAPHIC NAME  - Materials specified</td></tr><tr><td>651</td><td>4</td><td>SUBJECT ADDED ENTRY--GEOGRAPHIC NAME  - Relationship</td></tr><tr><td>655</td><td>b</td><td>INDEX TERM--GENRE/FORM  - Non-focus term</td></tr><tr><td>655</td><td>c</td><td>INDEX TERM--GENRE/FORM  - Facet/hierarchy designation</td></tr><tr><td>655</td><td>3</td><td>INDEX TERM--GENRE/FORM  - Materials specified</td></tr><tr><td>655</td><td>5</td><td>INDEX TERM--GENRE/FORM  - Institution to which field applies</td></tr><tr><td>656</td><td>3</td><td>INDEX TERM--OCCUPATION  - Materials specified</td></tr><tr><td>657</td><td>3</td><td>INDEX TERM--FUNCTION  - Materials specified</td></tr><tr><td>662</td><td>e</td><td>SUBJECT ADDED ENTRY--HIERARCHICAL PLACE NAME  - Relator term</td></tr><tr><td>662</td><td>4</td><td>SUBJECT ADDED ENTRY--HIERARCHICAL PLACE NAME  - Relationship</td></tr><tr><td>700</td><td>5</td><td>ADDED ENTRY--PERSONAL NAME  - Institution to which field applies</td></tr><tr><td>710</td><td>5</td><td>ADDED ENTRY--CORPORATE NAME  - Institution to which field applies</td></tr><tr><td>711</td><td>5</td><td>ADDED ENTRY--MEETING NAME  - Institution to which field applies</td></tr><tr><td>730</td><td>4</td><td>ADDED ENTRY--UNIFORM TITLE  - Relationship</td></tr><tr><td>730</td><td>5</td><td>ADDED ENTRY--UNIFORM TITLE  - Institution to which field applies</td></tr><tr><td>740</td><td>5</td><td>ADDED ENTRY--UNCONTROLLED RELATED/ANALYTICAL TITLE  - Institution to which field applies</td></tr><tr><td>760</td><td>4</td><td>MAIN SERIES ENTRY  - Relationship</td></tr><tr><td>762</td><td>4</td><td>SUBSERIES ENTRY  - Relationship</td></tr><tr><td>765</td><td>4</td><td>ORIGINAL LANGUAGE ENTRY  - Relationship</td></tr><tr><td>767</td><td>4</td><td>TRANSLATION ENTRY  - Relationship</td></tr><tr><td>770</td><td>4</td><td>SUPPLEMENT/SPECIAL ISSUE ENTRY  - Relationship</td></tr><tr><td>772</td><td>4</td><td>SUPPLEMENT PARENT ENTRY  - Relationship</td></tr><tr><td>773</td><td>q</td><td>HOST ITEM ENTRY  - Enumeration and first page</td></tr><tr><td>773</td><td>4</td><td>HOST ITEM ENTRY  - Relationship</td></tr><tr><td>774</td><td>4</td><td>CONSTITUENT UNIT ENTRY  - Relationship</td></tr><tr><td>775</td><td>f</td><td>OTHER EDITION ENTRY  - Country code</td></tr><tr><td>775</td><td>4</td><td>OTHER EDITION ENTRY  - Relationship</td></tr><tr><td>777</td><td>4</td><td>ISSUED WITH ENTRY  - Relationship</td></tr><tr><td>780</td><td>4</td><td>PRECEDING ENTRY  - Relationship</td></tr><tr><td>785</td><td>4</td><td>SUCCEEDING ENTRY  - Relationship</td></tr><tr><td>786</td><td>j</td><td>DATA SOURCE ENTRY  - Period of content</td></tr><tr><td>786</td><td>4</td><td>DATA SOURCE ENTRY  - Relationship</td></tr><tr><td>787</td><td>4</td><td>OTHER RELATIONSHIP ENTRY  - Relationship</td></tr><tr><td>800</td><td>e</td><td>SERIES ADDED ENTRY--PERSONAL NAME  - Relator term</td></tr><tr><td>800</td><td>v</td><td>SERIES ADDED ENTRY--PERSONAL NAME  - Volume/sequential designation</td></tr><tr><td>800</td><td>w</td><td>SERIES ADDED ENTRY--PERSONAL NAME  - Bibliographic record control number</td></tr><tr><td>800</td><td>4</td><td>SERIES ADDED ENTRY--PERSONAL NAME  - Relationship</td></tr><tr><td>800</td><td>5</td><td>SERIES ADDED ENTRY--PERSONAL NAME  - Institution to which field applies</td></tr><tr><td>810</td><td>e</td><td>SERIES ADDED ENTRY--CORPORATE NAME  - Relator term</td></tr><tr><td>810</td><td>v</td><td>SERIES ADDED ENTRY--CORPORATE NAME  - Volume/sequential designation</td></tr><tr><td>810</td><td>w</td><td>SERIES ADDED ENTRY--CORPORATE NAME  - Bibliographic record control number</td></tr><tr><td>810</td><td>4</td><td>SERIES ADDED ENTRY--CORPORATE NAME  - Relationship</td></tr><tr><td>810</td><td>5</td><td>SERIES ADDED ENTRY--CORPORATE NAME  - Institution to which field applies</td></tr><tr><td>811</td><td>j</td><td>SERIES ADDED ENTRY--MEETING NAME  - Relator term</td></tr><tr><td>811</td><td>q</td><td>SERIES ADDED ENTRY--MEETING NAME  - Name of meeting following jurisdiction name entry element</td></tr><tr><td>811</td><td>v</td><td>SERIES ADDED ENTRY--MEETING NAME  - Volume/sequential designation</td></tr><tr><td>811</td><td>w</td><td>SERIES ADDED ENTRY--MEETING NAME  - Bibliographic record control number</td></tr><tr><td>811</td><td>4</td><td>SERIES ADDED ENTRY--MEETING NAME  - Relationship</td></tr><tr><td>811</td><td>5</td><td>SERIES ADDED ENTRY--MEETING NAME  - Institution to which field applies</td></tr><tr><td>830</td><td>v</td><td>SERIES ADDED ENTRY--UNIFORM TITLE  - Volume/sequential designation</td></tr><tr><td>830</td><td>w</td><td>SERIES ADDED ENTRY--UNIFORM TITLE  - Bibliographic record control number</td></tr><tr><td>830</td><td>5</td><td>SERIES ADDED ENTRY--UNIFORM TITLE  - Institution to which field applies</td></tr><tr><td>856</td><td>a</td><td>ELECTRONIC LOCATION AND ACCESS  - Host name</td></tr><tr><td>856</td><td>b</td><td>ELECTRONIC LOCATION AND ACCESS  - Access number</td></tr><tr><td>856</td><td>c</td><td>ELECTRONIC LOCATION AND ACCESS  - Compression information</td></tr><tr><td>856</td><td>d</td><td>ELECTRONIC LOCATION AND ACCESS  - Path</td></tr><tr><td>856</td><td>f</td><td>ELECTRONIC LOCATION AND ACCESS  - Electronic name</td></tr><tr><td>856</td><td>h</td><td>ELECTRONIC LOCATION AND ACCESS  - Processor of request</td></tr><tr><td>856</td><td>i</td><td>ELECTRONIC LOCATION AND ACCESS  - Instruction</td></tr><tr><td>856</td><td>j</td><td>ELECTRONIC LOCATION AND ACCESS  - Bits per second</td></tr><tr><td>856</td><td>k</td><td>ELECTRONIC LOCATION AND ACCESS  - Password</td></tr><tr><td>856</td><td>l</td><td>ELECTRONIC LOCATION AND ACCESS  - Logon</td></tr><tr><td>856</td><td>m</td><td>ELECTRONIC LOCATION AND ACCESS  - Contact for access assistance</td></tr><tr><td>856</td><td>n</td><td>ELECTRONIC LOCATION AND ACCESS  - Name of location of host</td></tr><tr><td>856</td><td>o</td><td>ELECTRONIC LOCATION AND ACCESS  - Operating system</td></tr><tr><td>856</td><td>p</td><td>ELECTRONIC LOCATION AND ACCESS  - Port</td></tr><tr><td>856</td><td>q</td><td>ELECTRONIC LOCATION AND ACCESS  - Electronic format type</td></tr><tr><td>856</td><td>r</td><td>ELECTRONIC LOCATION AND ACCESS  - Settings</td></tr><tr><td>856</td><td>s</td><td>ELECTRONIC LOCATION AND ACCESS  - File size</td></tr><tr><td>856</td><td>t</td><td>ELECTRONIC LOCATION AND ACCESS  - Terminal emulation</td></tr><tr><td>856</td><td>v</td><td>ELECTRONIC LOCATION AND ACCESS  - Hours access method available</td></tr><tr><td>856</td><td>w</td><td>ELECTRONIC LOCATION AND ACCESS  - Record control number</td></tr><tr><td>856</td><td>x</td><td>ELECTRONIC LOCATION AND ACCESS  - Nonpublic note</td></tr><tr><td>856</td><td>z</td><td>ELECTRONIC LOCATION AND ACCESS  - Public note</td></tr><tr><td>856</td><td>2</td><td>ELECTRONIC LOCATION AND ACCESS  - Access method</td></tr></table>"
      ],
      "text/plain": [
       "\"<table><tr><th>MARC tag</th><th>subfield code</th><th>name</th></tr><tr><td>015</td><td>z</td><td>NATIONAL BIBLIOGRAPHY NUMBER  - Canceled/Invalid national bibliography number</td></tr><tr><td>020</td><td>c</td><td>INTERNATIONAL STANDARD BOOK NUMBER  - Terms of availability</td></tr><tr><td>022</td><td>m</td><td>INTERNATIONAL STANDARD SERIAL NUMBER  - Canceled ISSN-L</td></tr><tr><td>022</td><td>y</td><td>INTERNATIONAL STANDARD SERIAL NUMBER  - Incorrect ISSN</td></tr><tr><td>022</td><td>z</td><td>INTERNATIONAL STANDARD SERIAL NUMBER  - Canceled ISSN</td></tr><tr><td>024</td><td>c</td><td>OTHER STANDARD IDENTIFIER  - Terms of availability</td></tr><tr><td>028</td><td>a</td><td>PUBLISHER NUMBER OR DISTRIBUTOR NUMBER  - Publisher or distributor number</td></tr><tr><td>035</td><td>z</td><td>SYSTEM CONTROL NUMBER  - Canceled/invalid control number</td></tr><tr><td>041</td><td>b</td><td>LANGUAGE CODE  - Language code of summary or abstract</td></tr><tr><td>041</td><td>f</td><td>LANGUAGE CODE  - Language code of table of contents</td></tr><tr><td>041</td><td>h</td><td>LANGUAGE CODE  - Language code of original</td></tr><tr><td>041</td><td>j</td><td>LANGUAGE CODE  - Language code of subtitles or captions</td></tr><tr><td>041</td><td>k</td><td>LANGUAGE CODE  - Language code of intermediate translations</td></tr><tr><td>041</td><td>m</td><td>LANGUAGE CODE  - Language code of original accompanying materials other than librettos</td></tr><tr><td>041</td><td>n</td><td>LANGUAGE CODE  - Language code of original libretto</td></tr><tr><td>210</td><td>b</td><td>ABBREVIATED TITLE  - Qualifying information</td></tr><tr><td>245</td><td>h</td><td>TITLE STATEMENT  - Medium</td></tr><tr><td>246</td><td>5</td><td>VARYING FORM OF TITLE  - Institution to which field applies</td></tr><tr><td>340</td><td>3</td><td>PHYSICAL MEDIUM  - Materials specified</td></tr><tr><td>344</td><td>3</td><td>SOUND CHARACTERISTICS  - Materials specified</td></tr><tr><td>345</td><td>3</td><td>PROJECTION CHARACTERISTICS OF MOVING IMAGE  - Materials specified</td></tr><tr><td>346</td><td>3</td><td>VIDEO CHARACTERISTICS  - Materials specified</td></tr><tr><td>347</td><td>3</td><td>DIGITAL FILE CHARACTERISTICS  - Materials specified</td></tr><tr><td>382</td><td>e</td><td>MEDIUM OF PERFORMANCE  - Number of ensembles of the same type</td></tr><tr><td>382</td><td>n</td><td>MEDIUM OF PERFORMANCE  - Number of performers of the same medium</td></tr><tr><td>382</td><td>r</td><td>MEDIUM OF PERFORMANCE  - Total number of individuals performing alongside ensembles</td></tr><tr><td>382</td><td>s</td><td>MEDIUM OF PERFORMANCE  - Total number of performers</td></tr><tr><td>382</td><td>t</td><td>MEDIUM OF PERFORMANCE  - Total number of ensembles</td></tr><tr><td>382</td><td>v</td><td>MEDIUM OF PERFORMANCE  - Note</td></tr><tr><td>382</td><td>3</td><td>MEDIUM OF PERFORMANCE  - Materials specified</td></tr><tr><td>383</td><td>a</td><td>NUMERIC DESIGNATION OF MUSICAL WORK  - Serial number</td></tr><tr><td>383</td><td>b</td><td>NUMERIC DESIGNATION OF MUSICAL WORK  - Opus number</td></tr><tr><td>383</td><td>c</td><td>NUMERIC DESIGNATION OF MUSICAL WORK  - Thematic index number</td></tr><tr><td>383</td><td>e</td><td>NUMERIC DESIGNATION OF MUSICAL WORK  - Publisher associated with opus number</td></tr><tr><td>383</td><td>3</td><td>NUMERIC DESIGNATION OF MUSICAL WORK  - Materials secified</td></tr><tr><td>384</td><td>3</td><td>KEY  - Materials specified</td></tr><tr><td>500</td><td>5</td><td>GENERAL NOTE  - Institution to which field applies</td></tr><tr><td>501</td><td>5</td><td>WITH NOTE  - Institution to which field applies</td></tr><tr><td>502</td><td>o</td><td>DISSERTATION NOTE  - Dissertation identifier</td></tr><tr><td>505</td><td>u</td><td>FORMATTED CONTENTS NOTE  - Uniform Resource Identifier</td></tr><tr><td>506</td><td>5</td><td>RESTRICTIONS ON ACCESS NOTE  - Institution to which field applies</td></tr><tr><td>520</td><td>u</td><td>SUMMARY, ETC.  - Uniform Resource Identifier</td></tr><tr><td>526</td><td>i</td><td>STUDY PROGRAM INFORMATION NOTE  - Display text</td></tr><tr><td>526</td><td>x</td><td>STUDY PROGRAM INFORMATION NOTE  - Nonpublic note</td></tr><tr><td>526</td><td>5</td><td>STUDY PROGRAM INFORMATION NOTE  - Institution to which field applies</td></tr><tr><td>533</td><td>5</td><td>REPRODUCTION NOTE  - Institution to which field applies</td></tr><tr><td>533</td><td>7</td><td>REPRODUCTION NOTE  - Fixed-length data elements of reproduction</td></tr><tr><td>538</td><td>5</td><td>SYSTEM DETAILS NOTE  - Institution to which field applies</td></tr><tr><td>541</td><td>5</td><td>IMMEDIATE SOURCE OF ACQUISITION NOTE  - Institution to which field applies</td></tr><tr><td>556</td><td>z</td><td>INFORMATION ABOUT DOCUMENTATION NOTE  - International Standard Book Number</td></tr><tr><td>561</td><td>u</td><td>OWNERSHIP AND CUSTODIAL HISTORY  - Uniform Resource Identifier</td></tr><tr><td>561</td><td>5</td><td>OWNERSHIP AND CUSTODIAL HISTORY  - Institution to which field applies</td></tr><tr><td>562</td><td>5</td><td>COPY AND VERSION IDENTIFICATION NOTE  - Institution to which field applies</td></tr><tr><td>563</td><td>5</td><td>BINDING INFORMATION  - Institution to which field applies</td></tr><tr><td>585</td><td>5</td><td>EXHIBITIONS NOTE  - Institution to which field applies</td></tr><tr><td>590</td><td>b</td><td>RECEIPT DATE NOTE  - Provenance</td></tr><tr><td>590</td><td>d</td><td>RECEIPT DATE NOTE  - Origin of safety copy</td></tr><tr><td>600</td><td>e</td><td>SUBJECT ADDED ENTRY--PERSONAL NAME  - Relator term</td></tr><tr><td>600</td><td>3</td><td>SUBJECT ADDED ENTRY--PERSONAL NAME  - Materials specified</td></tr><tr><td>600</td><td>4</td><td>SUBJECT ADDED ENTRY--PERSONAL NAME  - Relationship</td></tr><tr><td>610</td><td>e</td><td>SUBJECT ADDED ENTRY--CORPORATE NAME  - Relator term</td></tr><tr><td>610</td><td>3</td><td>SUBJECT ADDED ENTRY--CORPORATE NAME  - Materials specified</td></tr><tr><td>610</td><td>4</td><td>SUBJECT ADDED ENTRY--CORPORATE NAME  - Relationship</td></tr><tr><td>611</td><td>j</td><td>SUBJECT ADDED ENTRY--MEETING NAME  - Relator term</td></tr><tr><td>611</td><td>3</td><td>SUBJECT ADDED ENTRY--MEETING NAME  - Materials specified</td></tr><tr><td>611</td><td>4</td><td>SUBJECT ADDED ENTRY--MEETING NAME  - Relationship</td></tr><tr><td>630</td><td>e</td><td>SUBJECT ADDED ENTRY--UNIFORM TITLE  - Relator term</td></tr><tr><td>630</td><td>3</td><td>SUBJECT ADDED ENTRY--UNIFORM TITLE  - Materials specified</td></tr><tr><td>630</td><td>4</td><td>SUBJECT ADDED ENTRY--UNIFORM TITLE  - Relationship</td></tr><tr><td>647</td><td>3</td><td>SUBJECT ADDED ENTRY--NAMED EVENT  - Materials specified</td></tr><tr><td>648</td><td>3</td><td>SUBJECT ADDED ENTRY--CHRONOLOGICAL TERM  - Materials specified</td></tr><tr><td>650</td><td>e</td><td>SUBJECT ADDED ENTRY--TOPICAL TERM  - Relator term</td></tr><tr><td>650</td><td>3</td><td>SUBJECT ADDED ENTRY--TOPICAL TERM  - Materials specified</td></tr><tr><td>650</td><td>4</td><td>SUBJECT ADDED ENTRY--TOPICAL TERM  - Relationship</td></tr><tr><td>651</td><td>e</td><td>SUBJECT ADDED ENTRY--GEOGRAPHIC NAME  - Relator term</td></tr><tr><td>651</td><td>3</td><td>SUBJECT ADDED ENTRY--GEOGRAPHIC NAME  - Materials specified</td></tr><tr><td>651</td><td>4</td><td>SUBJECT ADDED ENTRY--GEOGRAPHIC NAME  - Relationship</td></tr><tr><td>655</td><td>b</td><td>INDEX TERM--GENRE/FORM  - Non-focus term</td></tr><tr><td>655</td><td>c</td><td>INDEX TERM--GENRE/FORM  - Facet/hierarchy designation</td></tr><tr><td>655</td><td>3</td><td>INDEX TERM--GENRE/FORM  - Materials specified</td></tr><tr><td>655</td><td>5</td><td>INDEX TERM--GENRE/FORM  - Institution to which field applies</td></tr><tr><td>656</td><td>3</td><td>INDEX TERM--OCCUPATION  - Materials specified</td></tr><tr><td>657</td><td>3</td><td>INDEX TERM--FUNCTION  - Materials specified</td></tr><tr><td>662</td><td>e</td><td>SUBJECT ADDED ENTRY--HIERARCHICAL PLACE NAME  - Relator term</td></tr><tr><td>662</td><td>4</td><td>SUBJECT ADDED ENTRY--HIERARCHICAL PLACE NAME  - Relationship</td></tr><tr><td>700</td><td>5</td><td>ADDED ENTRY--PERSONAL NAME  - Institution to which field applies</td></tr><tr><td>710</td><td>5</td><td>ADDED ENTRY--CORPORATE NAME  - Institution to which field applies</td></tr><tr><td>711</td><td>5</td><td>ADDED ENTRY--MEETING NAME  - Institution to which field applies</td></tr><tr><td>730</td><td>4</td><td>ADDED ENTRY--UNIFORM TITLE  - Relationship</td></tr><tr><td>730</td><td>5</td><td>ADDED ENTRY--UNIFORM TITLE  - Institution to which field applies</td></tr><tr><td>740</td><td>5</td><td>ADDED ENTRY--UNCONTROLLED RELATED/ANALYTICAL TITLE  - Institution to which field applies</td></tr><tr><td>760</td><td>4</td><td>MAIN SERIES ENTRY  - Relationship</td></tr><tr><td>762</td><td>4</td><td>SUBSERIES ENTRY  - Relationship</td></tr><tr><td>765</td><td>4</td><td>ORIGINAL LANGUAGE ENTRY  - Relationship</td></tr><tr><td>767</td><td>4</td><td>TRANSLATION ENTRY  - Relationship</td></tr><tr><td>770</td><td>4</td><td>SUPPLEMENT/SPECIAL ISSUE ENTRY  - Relationship</td></tr><tr><td>772</td><td>4</td><td>SUPPLEMENT PARENT ENTRY  - Relationship</td></tr><tr><td>773</td><td>q</td><td>HOST ITEM ENTRY  - Enumeration and first page</td></tr><tr><td>773</td><td>4</td><td>HOST ITEM ENTRY  - Relationship</td></tr><tr><td>774</td><td>4</td><td>CONSTITUENT UNIT ENTRY  - Relationship</td></tr><tr><td>775</td><td>f</td><td>OTHER EDITION ENTRY  - Country code</td></tr><tr><td>775</td><td>4</td><td>OTHER EDITION ENTRY  - Relationship</td></tr><tr><td>777</td><td>4</td><td>ISSUED WITH ENTRY  - Relationship</td></tr><tr><td>780</td><td>4</td><td>PRECEDING ENTRY  - Relationship</td></tr><tr><td>785</td><td>4</td><td>SUCCEEDING ENTRY  - Relationship</td></tr><tr><td>786</td><td>j</td><td>DATA SOURCE ENTRY  - Period of content</td></tr><tr><td>786</td><td>4</td><td>DATA SOURCE ENTRY  - Relationship</td></tr><tr><td>787</td><td>4</td><td>OTHER RELATIONSHIP ENTRY  - Relationship</td></tr><tr><td>800</td><td>e</td><td>SERIES ADDED ENTRY--PERSONAL NAME  - Relator term</td></tr><tr><td>800</td><td>v</td><td>SERIES ADDED ENTRY--PERSONAL NAME  - Volume/sequential designation</td></tr><tr><td>800</td><td>w</td><td>SERIES ADDED ENTRY--PERSONAL NAME  - Bibliographic record control number</td></tr><tr><td>800</td><td>4</td><td>SERIES ADDED ENTRY--PERSONAL NAME  - Relationship</td></tr><tr><td>800</td><td>5</td><td>SERIES ADDED ENTRY--PERSONAL NAME  - Institution to which field applies</td></tr><tr><td>810</td><td>e</td><td>SERIES ADDED ENTRY--CORPORATE NAME  - Relator term</td></tr><tr><td>810</td><td>v</td><td>SERIES ADDED ENTRY--CORPORATE NAME  - Volume/sequential designation</td></tr><tr><td>810</td><td>w</td><td>SERIES ADDED ENTRY--CORPORATE NAME  - Bibliographic record control number</td></tr><tr><td>810</td><td>4</td><td>SERIES ADDED ENTRY--CORPORATE NAME  - Relationship</td></tr><tr><td>810</td><td>5</td><td>SERIES ADDED ENTRY--CORPORATE NAME  - Institution to which field applies</td></tr><tr><td>811</td><td>j</td><td>SERIES ADDED ENTRY--MEETING NAME  - Relator term</td></tr><tr><td>811</td><td>q</td><td>SERIES ADDED ENTRY--MEETING NAME  - Name of meeting following jurisdiction name entry element</td></tr><tr><td>811</td><td>v</td><td>SERIES ADDED ENTRY--MEETING NAME  - Volume/sequential designation</td></tr><tr><td>811</td><td>w</td><td>SERIES ADDED ENTRY--MEETING NAME  - Bibliographic record control number</td></tr><tr><td>811</td><td>4</td><td>SERIES ADDED ENTRY--MEETING NAME  - Relationship</td></tr><tr><td>811</td><td>5</td><td>SERIES ADDED ENTRY--MEETING NAME  - Institution to which field applies</td></tr><tr><td>830</td><td>v</td><td>SERIES ADDED ENTRY--UNIFORM TITLE  - Volume/sequential designation</td></tr><tr><td>830</td><td>w</td><td>SERIES ADDED ENTRY--UNIFORM TITLE  - Bibliographic record control number</td></tr><tr><td>830</td><td>5</td><td>SERIES ADDED ENTRY--UNIFORM TITLE  - Institution to which field applies</td></tr><tr><td>856</td><td>a</td><td>ELECTRONIC LOCATION AND ACCESS  - Host name</td></tr><tr><td>856</td><td>b</td><td>ELECTRONIC LOCATION AND ACCESS  - Access number</td></tr><tr><td>856</td><td>c</td><td>ELECTRONIC LOCATION AND ACCESS  - Compression information</td></tr><tr><td>856</td><td>d</td><td>ELECTRONIC LOCATION AND ACCESS  - Path</td></tr><tr><td>856</td><td>f</td><td>ELECTRONIC LOCATION AND ACCESS  - Electronic name</td></tr><tr><td>856</td><td>h</td><td>ELECTRONIC LOCATION AND ACCESS  - Processor of request</td></tr><tr><td>856</td><td>i</td><td>ELECTRONIC LOCATION AND ACCESS  - Instruction</td></tr><tr><td>856</td><td>j</td><td>ELECTRONIC LOCATION AND ACCESS  - Bits per second</td></tr><tr><td>856</td><td>k</td><td>ELECTRONIC LOCATION AND ACCESS  - Password</td></tr><tr><td>856</td><td>l</td><td>ELECTRONIC LOCATION AND ACCESS  - Logon</td></tr><tr><td>856</td><td>m</td><td>ELECTRONIC LOCATION AND ACCESS  - Contact for access assistance</td></tr><tr><td>856</td><td>n</td><td>ELECTRONIC LOCATION AND ACCESS  - Name of location of host</td></tr><tr><td>856</td><td>o</td><td>ELECTRONIC LOCATION AND ACCESS  - Operating system</td></tr><tr><td>856</td><td>p</td><td>ELECTRONIC LOCATION AND ACCESS  - Port</td></tr><tr><td>856</td><td>q</td><td>ELECTRONIC LOCATION AND ACCESS  - Electronic format type</td></tr><tr><td>856</td><td>r</td><td>ELECTRONIC LOCATION AND ACCESS  - Settings</td></tr><tr><td>856</td><td>s</td><td>ELECTRONIC LOCATION AND ACCESS  - File size</td></tr><tr><td>856</td><td>t</td><td>ELECTRONIC LOCATION AND ACCESS  - Terminal emulation</td></tr><tr><td>856</td><td>v</td><td>ELECTRONIC LOCATION AND ACCESS  - Hours access method available</td></tr><tr><td>856</td><td>w</td><td>ELECTRONIC LOCATION AND ACCESS  - Record control number</td></tr><tr><td>856</td><td>x</td><td>ELECTRONIC LOCATION AND ACCESS  - Nonpublic note</td></tr><tr><td>856</td><td>z</td><td>ELECTRONIC LOCATION AND ACCESS  - Public note</td></tr><tr><td>856</td><td>2</td><td>ELECTRONIC LOCATION AND ACCESS  - Access method</td></tr></table>\""
      ]
     },
     "metadata": {},
     "output_type": "display_data"
    },
    {
     "data": {
      "text/plain": [
       "#<CZTop::Socket::PUB:0x1ac82b0 last_endpoint=\"tcp://127.0.0.1:59847\">"
      ]
     },
     "execution_count": 90,
     "metadata": {},
     "output_type": "execute_result"
    }
   ],
   "source": [
    "table4 = { 'MARC tag' => [],\n",
    "  'subfield code' => [],\n",
    "  'name' => []\n",
    "  }\n",
    "\n",
    "subfields.each do |sf|\n",
    "  table4['MARC tag'] << sf['tag']\n",
    "  table4['subfield code'] << sf['code']\n",
    "  table4['name'] << sf['name']\n",
    "end\n",
    "IRuby.display IRuby.table(table4, maxrows: 200)"
   ]
  },
  {
   "cell_type": "code",
   "execution_count": null,
   "metadata": {},
   "outputs": [],
   "source": []
  }
 ],
 "metadata": {
  "kernelspec": {
   "display_name": "Ruby 2.4.2",
   "language": "ruby",
   "name": "ruby"
  },
  "language_info": {
   "file_extension": ".rb",
   "mimetype": "application/x-ruby",
   "name": "ruby",
   "version": "2.4.2"
  }
 },
 "nbformat": 4,
 "nbformat_minor": 2
}
