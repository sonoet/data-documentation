{
 "cells": [
  {
   "cell_type": "markdown",
   "metadata": {},
   "source": [
    "# MARC mappings\n",
    "This notebook generates and allows you to view the mapping of MARC to the Argot data language used by TRLN Discovery."
   ]
  },
  {
   "cell_type": "markdown",
   "metadata": {},
   "source": [
    "First I need to bring in the mappings data from the Excel file that lives at https://github.com/trln/data-documentation/blob/master/argot/argot.xlsx \n",
    "\n"
   ]
  },
  {
   "cell_type": "code",
   "execution_count": 735,
   "metadata": {},
   "outputs": [
    {
     "name": "stdout",
     "output_type": "stream",
     "text": [
      "\n"
     ]
    }
   ],
   "source": [
    "require 'pp'\n",
    "require 'simple_xlsx_reader'\n",
    "doc = SimpleXlsxReader.open('../argot/argot.xlsx')\n",
    "mappings_d = doc.sheets[1].data\n",
    "mappings_h = doc.sheets[1].headers\n",
    "fields_d = doc.sheets[0].data\n",
    "fields_h = doc.sheets[0].headers\n",
    "puts ''"
   ]
  },
  {
   "cell_type": "markdown",
   "metadata": {},
   "source": [
    "Then, I throw out mappings that are not from standard MARC source data and take a look at the data."
   ]
  },
  {
   "cell_type": "code",
   "execution_count": 737,
   "metadata": {},
   "outputs": [
    {
     "name": "stdout",
     "output_type": "stream",
     "text": [
      "Number of mappings: 669\n",
      "[\"misc_id\", \"misc_id[type]\", \"MARC\", \"n\", \"GEN\", \"15\", \"2\", \"none\", \"map subelement to value\", \"type = \\\"National Bibliography Number\\\" if there is no $2; otherwise, map $2 using https://github.com/trln/marc-to-argot/blob/master/lib/translation_maps/shared/national_bibliography_codes.yaml\", \"Mapping is from: https://www.loc.gov/standards/sourcelist/national-bibliography.html\", \"misc_id[type]GEN152none\", \"0\", \"0\", \"n\", \"y\", \"y\"]\n",
      "[\"edition\", \"edition[label]\", \"MARC\", \"n\", \"GEN\", \"250\", \"3\", \"none\", \"concat_subelements\", \"x\", \".\", \"edition[label]GEN2503none\", \"0\", \"0\", \"n\", \"n\", \"y\"]\n",
      "[\"imprint_main\", \"imprint_main[label]\", \"MARC\", \"n\", \"GEN\", \"260\", \"3\", \"If >1 260/264, chosen from latest (i1 = 3) or last\", \"subelement_to_value\", \"strip colon or other non-enclosing punctuation from end of subfield.\", \"x\", \"imprint_main[label]GEN2603If >1 260/264, chosen from latest (i1 = 3) or last\", \"0\", \"0\", \"n\", \"?\", \"https://github.com/trln/marc-to-argot/blob/TD-443-publication/spec/macros/shared/imprint_spec.rb\"]\n",
      "\n"
     ]
    }
   ],
   "source": [
    "marc_only = mappings_d.select{ |r| r[2] == \"MARC\"}\n",
    "puts \"Number of mappings: #{marc_only.size}\"\n",
    "marc_only.first(3).each { |m| puts m}\n",
    "puts ''"
   ]
  },
  {
   "cell_type": "markdown",
   "metadata": {},
   "source": [
    "There's a lot of info here we don't need, so I'm going to keep only what we need: \n",
    "* 0 -- parentfield\n",
    "* 1 -- field\n",
    "* 3 -- provisional?\n",
    "* 4 -- institution\n",
    "* 5 -- element/field\n",
    "* 6 -- subelement/field(s)\n",
    "* 7 -- constraints\n",
    "* 8 -- processing_type\n",
    "* 9 -- processing instructions\n",
    "* 10 -- notes"
   ]
  },
  {
   "cell_type": "code",
   "execution_count": 738,
   "metadata": {},
   "outputs": [
    {
     "name": "stdout",
     "output_type": "stream",
     "text": [
      "[\"misc_id\", \"misc_id[type]\", \"n\", \"GEN\", \"15\", \"2\", \"none\", \"map subelement to value\", \"type = \\\"National Bibliography Number\\\" if there is no $2; otherwise, map $2 using https://github.com/trln/marc-to-argot/blob/master/lib/translation_maps/shared/national_bibliography_codes.yaml\", \"Mapping is from: https://www.loc.gov/standards/sourcelist/national-bibliography.html\"]\n",
      "[\"edition\", \"edition[label]\", \"n\", \"GEN\", \"250\", \"3\", \"none\", \"concat_subelements\", \"x\", \".\"]\n",
      "[\"imprint_main\", \"imprint_main[label]\", \"n\", \"GEN\", \"260\", \"3\", \"If >1 260/264, chosen from latest (i1 = 3) or last\", \"subelement_to_value\", \"strip colon or other non-enclosing punctuation from end of subfield.\", \"x\"]\n",
      "\n"
     ]
    }
   ],
   "source": [
    "less_data = marc_only.map { |m| [m[0], m[1], m[3], m[4], m[5], m[6], m[7], m[8], m[9], m[10]]}\n",
    "less_data.first(3).each { |m| puts m}\n",
    "puts ''"
   ]
  },
  {
   "cell_type": "markdown",
   "metadata": {},
   "source": [
    "Sort by MARC tag and print out the first 10"
   ]
  },
  {
   "cell_type": "code",
   "execution_count": 739,
   "metadata": {
    "scrolled": true
   },
   "outputs": [
    {
     "name": "stdout",
     "output_type": "stream",
     "text": [
      "[\"oclc_number\", \"oclc_number[value]\", \"n\", \"UNC\", \"1\", \"{whole field}\", \"complex contraint logic\", \"complex\", \"see notes\", \"https://github.com/trln/marc-to-argot/blob/master/spec/unc_oclcnum_spec.rb\"]\n",
      "[\"sersol_number\", \"sersol_number\", \"n\", \"UNC\", \"1\", \"{whole field}\", \"value =~ /^ss([ej]|[ie]b)\\\\d+$/\", \"subelement_to_value\", \"x\", \"x\"]\n",
      "[\"vendor_marc_id\", \"vendor_marc_id\", \"n\", \"UNC\", \"1\", \"{whole field}\", \"value does not meet criteria to be OCLC Number or Sersol Number\", \"subelement_to_value\", \"x\", \"x\"]\n",
      "[\"misc_id\", \"misc_id[value]\", \"n\", \"GEN\", \"10\", \"a\", \"none\", \"subelement_to_value\", \"misc_id[qual]   = \\\"\\\";;;misc_id[type] = \\\"LCCN\\\"\", \"x\"]\n",
      "[\"misc_id\", \"misc_id[value]\", \"n\", \"GEN\", \"10\", \"b\", \"none\", \"subelement_to_value\", \"misc_id[qual]  = \\\"\\\";;;misc_id[type] = \\\"NUCMC\\\"\", \"x\"]\n",
      "[\"misc_id\", \"misc_id[value]\", \"n\", \"GEN\", \"10\", \"z\", \"none\", \"subelement_to_value\", \"misc_id[qual]  = \\\"\\\";;;misc_id[type] = \\\"Canceled or invalid LCCN\\\"\", \"x\"]\n",
      "[\"names\", \"names[type]\", \"n\", \"GEN\", \"100\", \"{na}\", \"none\", \"complex\", \"x\", \"https://github.com/trln/data-documentation/blob/master/argot/spec_docs/_pattern_names.adoc\"]\n",
      "[nil, \"this_work[type]\", \"n\", \"GEN\", \"100\", \"{na}\", \"$t present\", \"constant\", \"\\\"type\\\":\\\"this\\\"\", \"https://github.com/trln/data-documentation/blob/master/argot/spec_docs/this_work.adoc\"]\n",
      "[\"this_work\", \"this_work[author]\", \"n\", \"GEN\", \"100\", \"abcd(g)jqu\", \"100$t present OR 240 field present\", \"concat_subelements\", \"See linked documentation\", \"https://github.com/trln/data-documentation/blob/master/argot/spec_docs/this_work.adoc\"]\n",
      "[\"names\", \"names[name]\", \"n\", \"GEN\", \"100\", \"abcdgjqu\", \"none\", \"concat_subelements\", \"x\", \"https://github.com/trln/data-documentation/blob/master/argot/spec_docs/_pattern_names.adoc\"]\n",
      "\n"
     ]
    }
   ],
   "source": [
    "less_data.sort! {|a,b| a[4] <=> b[4]}\n",
    "less_data.first(10).each { |m| puts m }\n",
    "puts ''"
   ]
  },
  {
   "cell_type": "markdown",
   "metadata": {},
   "source": [
    "Our MARC tags beginning with zeros need to be padded out, so let's fix that. "
   ]
  },
  {
   "cell_type": "code",
   "execution_count": 740,
   "metadata": {},
   "outputs": [
    {
     "name": "stdout",
     "output_type": "stream",
     "text": [
      "[\"oclc_number\", \"oclc_number[value]\", \"n\", \"UNC\", \"001\", \"{whole field}\", \"complex contraint logic\", \"complex\", \"see notes\", \"https://github.com/trln/marc-to-argot/blob/master/spec/unc_oclcnum_spec.rb\"]\n",
      "[\"sersol_number\", \"sersol_number\", \"n\", \"UNC\", \"001\", \"{whole field}\", \"value =~ /^ss([ej]|[ie]b)\\\\d+$/\", \"subelement_to_value\", \"x\", \"x\"]\n",
      "[\"vendor_marc_id\", \"vendor_marc_id\", \"n\", \"UNC\", \"001\", \"{whole field}\", \"value does not meet criteria to be OCLC Number or Sersol Number\", \"subelement_to_value\", \"x\", \"x\"]\n",
      "[\"misc_id\", \"misc_id[value]\", \"n\", \"GEN\", \"010\", \"a\", \"none\", \"subelement_to_value\", \"misc_id[qual]   = \\\"\\\";;;misc_id[type] = \\\"LCCN\\\"\", \"x\"]\n",
      "[\"misc_id\", \"misc_id[value]\", \"n\", \"GEN\", \"010\", \"b\", \"none\", \"subelement_to_value\", \"misc_id[qual]  = \\\"\\\";;;misc_id[type] = \\\"NUCMC\\\"\", \"x\"]\n",
      "\n"
     ]
    }
   ],
   "source": [
    "fix_tags = less_data.each { |m| m[4] = m[4].rjust(3,'0') }\n",
    "fix_tags.first(5).each { |m| puts m}\n",
    "puts ''"
   ]
  },
  {
   "cell_type": "markdown",
   "metadata": {},
   "source": [
    "Change GEN to ALL in institution element"
   ]
  },
  {
   "cell_type": "code",
   "execution_count": 741,
   "metadata": {
    "scrolled": true
   },
   "outputs": [
    {
     "name": "stdout",
     "output_type": "stream",
     "text": [
      "[\"oclc_number\", \"oclc_number[value]\", \"n\", \"UNC\", \"001\", \"{whole field}\", \"complex contraint logic\", \"complex\", \"see notes\", \"https://github.com/trln/marc-to-argot/blob/master/spec/unc_oclcnum_spec.rb\"]\n",
      "[\"sersol_number\", \"sersol_number\", \"n\", \"UNC\", \"001\", \"{whole field}\", \"value =~ /^ss([ej]|[ie]b)\\\\d+$/\", \"subelement_to_value\", \"x\", \"x\"]\n",
      "[\"vendor_marc_id\", \"vendor_marc_id\", \"n\", \"UNC\", \"001\", \"{whole field}\", \"value does not meet criteria to be OCLC Number or Sersol Number\", \"subelement_to_value\", \"x\", \"x\"]\n",
      "[\"misc_id\", \"misc_id[value]\", \"n\", \"ALL\", \"010\", \"a\", \"none\", \"subelement_to_value\", \"misc_id[qual]   = \\\"\\\";;;misc_id[type] = \\\"LCCN\\\"\", \"x\"]\n",
      "[\"misc_id\", \"misc_id[value]\", \"n\", \"ALL\", \"010\", \"b\", \"none\", \"subelement_to_value\", \"misc_id[qual]  = \\\"\\\";;;misc_id[type] = \\\"NUCMC\\\"\", \"x\"]\n",
      "\n"
     ]
    }
   ],
   "source": [
    "inst_fix = fix_tags.each { |m| m[3] = m[3].sub('GEN', 'ALL') }\n",
    "inst_fix.first(5).each { |m| puts m}\n",
    "puts ''"
   ]
  },
  {
   "cell_type": "markdown",
   "metadata": {},
   "source": [
    "Now we create a more complex data structure out of our mappings, so that we can report out on them in a structured way. The hash we create below will look like: \n",
    "\n",
    "<pre>\n",
    "{MARC TAG => \n",
    "  {INSTITUTION => \n",
    "    {CONSTRAINT => \n",
    "      {ARGOT FIELD =>     \n",
    "        {ARGOT ELEMENT => { :subfields => x,\n",
    "                          :processing_type => x,\n",
    "                          :processing instructions => x,\n",
    "                          :notes => x,\n",
    "                          :provisional => x }\n",
    "     }\n",
    "    }\n",
    "   }\n",
    "}\n",
    "<pre>\n",
    "First we set up the MARC TAGs for population..."
   ]
  },
  {
   "cell_type": "code",
   "execution_count": 742,
   "metadata": {},
   "outputs": [
    {
     "name": "stdout",
     "output_type": "stream",
     "text": [
      "[\"001\", {}]\n",
      "[\"010\", {}]\n",
      "[\"100\", {}]\n",
      "[\"110\", {}]\n",
      "[\"111\", {}]\n"
     ]
    },
    {
     "data": {
      "text/plain": [
       "[[\"001\", {}], [\"010\", {}], [\"100\", {}], [\"110\", {}], [\"111\", {}]]"
      ]
     },
     "execution_count": 742,
     "metadata": {},
     "output_type": "execute_result"
    }
   ],
   "source": [
    "map_hash = {}\n",
    "fix_tags.each do |m|\n",
    "  map_hash[m[4]] = {} unless map_hash.has_key?(m[4])\n",
    "end\n",
    "map_hash.first(5).each { |h| puts h }"
   ]
  },
  {
   "cell_type": "markdown",
   "metadata": {},
   "source": [
    "Then we set up the INSTITUTION level structure for population..."
   ]
  },
  {
   "cell_type": "code",
   "execution_count": 743,
   "metadata": {},
   "outputs": [
    {
     "name": "stdout",
     "output_type": "stream",
     "text": [
      "[\"001\", {\"UNC\"=>{}}]\n",
      "[\"010\", {\"ALL\"=>{}}]\n",
      "[\"100\", {\"ALL\"=>{}}]\n",
      "[\"110\", {\"ALL\"=>{}}]\n",
      "[\"111\", {\"ALL\"=>{}}]\n"
     ]
    },
    {
     "data": {
      "text/plain": [
       "[[\"001\", {\"UNC\"=>{}}], [\"010\", {\"ALL\"=>{}}], [\"100\", {\"ALL\"=>{}}], [\"110\", {\"ALL\"=>{}}], [\"111\", {\"ALL\"=>{}}]]"
      ]
     },
     "execution_count": 743,
     "metadata": {},
     "output_type": "execute_result"
    }
   ],
   "source": [
    "fix_tags.each do |m|\n",
    "  map_hash[m[4]][m[3]] = {} unless map_hash[m[4]].has_key?(m[3])\n",
    "end\n",
    "map_hash.first(5).each { |h| puts h }"
   ]
  },
  {
   "cell_type": "markdown",
   "metadata": {},
   "source": [
    "Then we set up the CONSTRAINT level structure for population..."
   ]
  },
  {
   "cell_type": "code",
   "execution_count": 744,
   "metadata": {},
   "outputs": [
    {
     "name": "stdout",
     "output_type": "stream",
     "text": [
      "[\"001\", {\"UNC\"=>{\"complex contraint logic\"=>{}, \"value =~ /^ss([ej]|[ie]b)\\\\d+$/\"=>{}, \"value does not meet criteria to be OCLC Number or Sersol Number\"=>{}}}]\n",
      "[\"010\", {\"ALL\"=>{\"none\"=>{}}}]\n",
      "[\"100\", {\"ALL\"=>{\"none\"=>{}, \"$t present\"=>{}, \"100$t present OR 240 field present\"=>{}}}]\n",
      "[\"110\", {\"ALL\"=>{\"$t present\"=>{}, \"none\"=>{}, \"110$t present OR 240 field present\"=>{}}}]\n",
      "[\"111\", {\"ALL\"=>{\"$t present\"=>{}, \"none\"=>{}, \"111$t present OR 240 field present\"=>{}}}]\n"
     ]
    },
    {
     "data": {
      "text/plain": [
       "[[\"001\", {\"UNC\"=>{\"complex contraint logic\"=>{}, \"value =~ /^ss([ej]|[ie]b)\\\\d+$/\"=>{}, \"value does not meet criteria to be OCLC Number or Sersol Number\"=>{}}}], [\"010\", {\"ALL\"=>{\"none\"=>{}}}], [\"100\", {\"ALL\"=>{\"none\"=>{}, \"$t present\"=>{}, \"100$t present OR 240 field present\"=>{}}}], [\"110\", {\"ALL\"=>{\"$t present\"=>{}, \"none\"=>{}, \"110$t present OR 240 field present\"=>{}}}], [\"111\", {\"ALL\"=>{\"$t present\"=>{}, \"none\"=>{}, \"111$t present OR 240 field present\"=>{}}}]]"
      ]
     },
     "execution_count": 744,
     "metadata": {},
     "output_type": "execute_result"
    }
   ],
   "source": [
    "fix_tags.each do |m|\n",
    "  map_hash[m[4]][m[3]][m[6]] = {} unless map_hash[m[4]][m[3]].has_key?(m[6])\n",
    "end\n",
    "map_hash.first(5).each { |h| puts h }"
   ]
  },
  {
   "cell_type": "markdown",
   "metadata": {},
   "source": [
    "Then we set up the ARGOT FIELD level for population"
   ]
  },
  {
   "cell_type": "code",
   "execution_count": 745,
   "metadata": {},
   "outputs": [
    {
     "name": "stdout",
     "output_type": "stream",
     "text": [
      "[\"001\", {\"UNC\"=>{\"complex contraint logic\"=>{\"oclc_number\"=>{}}, \"value =~ /^ss([ej]|[ie]b)\\\\d+$/\"=>{\"sersol_number\"=>{}}, \"value does not meet criteria to be OCLC Number or Sersol Number\"=>{\"vendor_marc_id\"=>{}}}}]\n",
      "[\"010\", {\"ALL\"=>{\"none\"=>{\"misc_id\"=>{}}}}]\n",
      "[\"100\", {\"ALL\"=>{\"none\"=>{\"names\"=>{}}, \"$t present\"=>{nil=>{}, \"this_work\"=>{}}, \"100$t present OR 240 field present\"=>{\"this_work\"=>{}}}}]\n",
      "[\"110\", {\"ALL\"=>{\"$t present\"=>{\"this_work\"=>{}, nil=>{}}, \"none\"=>{\"names\"=>{}}, \"110$t present OR 240 field present\"=>{\"this_work\"=>{}}}}]\n",
      "[\"111\", {\"ALL\"=>{\"$t present\"=>{\"this_work\"=>{}, nil=>{}}, \"none\"=>{\"names\"=>{}}, \"111$t present OR 240 field present\"=>{\"this_work\"=>{}}}}]\n"
     ]
    },
    {
     "data": {
      "text/plain": [
       "[[\"001\", {\"UNC\"=>{\"complex contraint logic\"=>{\"oclc_number\"=>{}}, \"value =~ /^ss([ej]|[ie]b)\\\\d+$/\"=>{\"sersol_number\"=>{}}, \"value does not meet criteria to be OCLC Number or Sersol Number\"=>{\"vendor_marc_id\"=>{}}}}], [\"010\", {\"ALL\"=>{\"none\"=>{\"misc_id\"=>{}}}}], [\"100\", {\"ALL\"=>{\"none\"=>{\"names\"=>{}}, \"$t present\"=>{nil=>{}, \"this_work\"=>{}}, \"100$t present OR 240 field present\"=>{\"this_work\"=>{}}}}], [\"110\", {\"ALL\"=>{\"$t present\"=>{\"this_work\"=>{}, nil=>{}}, \"none\"=>{\"names\"=>{}}, \"110$t present OR 240 field present\"=>{\"this_work\"=>{}}}}], [\"111\", {\"ALL\"=>{\"$t present\"=>{\"this_work\"=>{}, nil=>{}}, \"none\"=>{\"names\"=>{}}, \"111$t present OR 240 field present\"=>{\"this_work\"=>{}}}}]]"
      ]
     },
     "execution_count": 745,
     "metadata": {},
     "output_type": "execute_result"
    }
   ],
   "source": [
    "fix_tags.each do |m|\n",
    "  map_hash[m[4]][m[3]][m[6]][m[0]] = {} unless map_hash[m[4]][m[3]][m[6]].has_key?(m[0])\n",
    "end\n",
    "map_hash.first(5).each { |h| puts h }"
   ]
  },
  {
   "cell_type": "markdown",
   "metadata": {},
   "source": [
    "Then we set up the ARGOT ELEMENT level structure for population..."
   ]
  },
  {
   "cell_type": "code",
   "execution_count": 746,
   "metadata": {},
   "outputs": [
    {
     "name": "stdout",
     "output_type": "stream",
     "text": [
      "[\"001\", {\"UNC\"=>{\"complex contraint logic\"=>{\"oclc_number\"=>{\"oclc_number[value]\"=>[]}}, \"value =~ /^ss([ej]|[ie]b)\\\\d+$/\"=>{\"sersol_number\"=>{\"sersol_number\"=>[]}}, \"value does not meet criteria to be OCLC Number or Sersol Number\"=>{\"vendor_marc_id\"=>{\"vendor_marc_id\"=>[]}}}}]\n",
      "[\"010\", {\"ALL\"=>{\"none\"=>{\"misc_id\"=>{\"misc_id[value]\"=>[]}}}}]\n",
      "[\"100\", {\"ALL\"=>{\"none\"=>{\"names\"=>{\"names[type]\"=>[], \"names[name]\"=>[], \"names[rel]\"=>[]}}, \"$t present\"=>{nil=>{\"this_work[type]\"=>[]}, \"this_work\"=>{\"this_work[title]\"=>[]}}, \"100$t present OR 240 field present\"=>{\"this_work\"=>{\"this_work[author]\"=>[]}}}}]\n",
      "[\"110\", {\"ALL\"=>{\"$t present\"=>{\"this_work\"=>{\"this_work[title]\"=>[]}, nil=>{\"this_work[type]\"=>[]}}, \"none\"=>{\"names\"=>{\"names[type]\"=>[], \"names[name]\"=>[], \"names[rel]\"=>[]}}, \"110$t present OR 240 field present\"=>{\"this_work\"=>{\"this_work[author]\"=>[]}}}}]\n",
      "[\"111\", {\"ALL\"=>{\"$t present\"=>{\"this_work\"=>{\"this_work[title]\"=>[]}, nil=>{\"this_work[type]\"=>[]}}, \"none\"=>{\"names\"=>{\"names[type]\"=>[], \"names[name]\"=>[], \"names[rel]\"=>[]}}, \"111$t present OR 240 field present\"=>{\"this_work\"=>{\"this_work[author]\"=>[]}}}}]\n"
     ]
    },
    {
     "data": {
      "text/plain": [
       "[[\"001\", {\"UNC\"=>{\"complex contraint logic\"=>{\"oclc_number\"=>{\"oclc_number[value]\"=>[]}}, \"value =~ /^ss([ej]|[ie]b)\\\\d+$/\"=>{\"sersol_number\"=>{\"sersol_number\"=>[]}}, \"value does not meet criteria to be OCLC Number or Sersol Number\"=>{\"vendor_marc_id\"=>{\"vendor_marc_id\"=>[]}}}}], [\"010\", {\"ALL\"=>{\"none\"=>{\"misc_id\"=>{\"misc_id[value]\"=>[]}}}}], [\"100\", {\"ALL\"=>{\"none\"=>{\"names\"=>{\"names[type]\"=>[], \"names[name]\"=>[], \"names[rel]\"=>[]}}, \"$t present\"=>{nil=>{\"this_work[type]\"=>[]}, \"this_work\"=>{\"this_work[title]\"=>[]}}, \"100$t present OR 240 field present\"=>{\"this_work\"=>{\"this_work[author]\"=>[]}}}}], [\"110\", {\"ALL\"=>{\"$t present\"=>{\"this_work\"=>{\"this_work[title]\"=>[]}, nil=>{\"this_work[type]\"=>[]}}, \"none\"=>{\"names\"=>{\"names[type]\"=>[], \"names[name]\"=>[], \"names[rel]\"=>[]}}, \"110$t present OR 240 field present\"=>{\"this_work\"=>{\"this_work[author]\"=>[]}}}}], [\"111\", {\"ALL\"=>{\"$t present\"=>{\"this_work\"=>{\"this_work[title]\"=>[]}, nil=>{\"this_work[type]\"=>[]}}, \"none\"=>{\"names\"=>{\"names[type]\"=>[], \"names[name]\"=>[], \"names[rel]\"=>[]}}, \"111$t present OR 240 field present\"=>{\"this_work\"=>{\"this_work[author]\"=>[]}}}}]]"
      ]
     },
     "execution_count": 746,
     "metadata": {},
     "output_type": "execute_result"
    }
   ],
   "source": [
    "fix_tags.each do |m|\n",
    "  map_hash[m[4]][m[3]][m[6]][m[0]][m[1]] = [] unless map_hash[m[4]][m[3]][m[6]][m[0]].has_key?(m[1])\n",
    "end\n",
    "map_hash.first(5).each { |h| puts h }"
   ]
  },
  {
   "cell_type": "markdown",
   "metadata": {},
   "source": [
    "Then we get the Argot field data we want to merge in..."
   ]
  },
  {
   "cell_type": "code",
   "execution_count": 747,
   "metadata": {},
   "outputs": [
    {
     "name": "stdout",
     "output_type": "stream",
     "text": [
      "0 -- argot_field\n",
      "1 -- has parent\n",
      "2 -- is parent?\n",
      "3 -- vernacular treatment\n",
      "4 -- vernacular status\n",
      "5 -- type\n",
      "6 -- argot-marc processor/pattern\n",
      "7 -- category\n",
      "8 -- provisional\n",
      "9 -- responsibility\n",
      "10 -- obligation\n",
      "11 -- searchable in\n",
      "12 -- retain order\n",
      "13 -- facet\n",
      "14 -- Brief display\n",
      "15 -- Full display\n",
      "16 -- note on display\n",
      "17 -- definition\n",
      "18 -- rationale\n",
      "19 -- relevance importance (1=most imp)\n",
      "20 -- endeca equivalent\n",
      "21 -- notes\n",
      "22 -- implementation details\n",
      "23 -- documentation\n",
      "24 -- JIRA issue\n",
      "25 -- issue ct\n",
      "26 -- mapping ct\n",
      "27 -- done in mta?\n",
      "28 -- tests?\n",
      "29 -- in schema?\n",
      "\n"
     ]
    }
   ],
   "source": [
    "fields_h.each { |h| puts \"#{fields_h.index(h)} -- #{h}\"}\n",
    "puts ''"
   ]
  },
  {
   "cell_type": "markdown",
   "metadata": {},
   "source": [
    "Keep only the columns we need..."
   ]
  },
  {
   "cell_type": "code",
   "execution_count": 748,
   "metadata": {},
   "outputs": [
    {
     "name": "stdout",
     "output_type": "stream",
     "text": [
      "\n"
     ]
    }
   ],
   "source": [
    "field_hash = {}\n",
    "fields_d.each do |f|\n",
    "field_hash[f[0]] = {:indexes => f[11],\n",
    "                    :facet => f[13],\n",
    "                    :disp_b => f[14],\n",
    "                    :disp_f => f[15],\n",
    "                    :disp_note => f[16],\n",
    "                    :doc => f[23]}  \n",
    "end\n",
    "puts ''"
   ]
  },
  {
   "cell_type": "markdown",
   "metadata": {},
   "source": [
    "Then we populate the hash with the details..."
   ]
  },
  {
   "cell_type": "code",
   "execution_count": 750,
   "metadata": {},
   "outputs": [
    {
     "name": "stdout",
     "output_type": "stream",
     "text": [
      "[\"001\",\n",
      " {\"UNC\"=>\n",
      "   {\"complex contraint logic\"=>\n",
      "     {\"oclc_number\"=>\n",
      "       {\"oclc_number[value]\"=>\n",
      "         [{:subfields=>\"{whole field}\",\n",
      "           :processing_type=>\"complex\",\n",
      "           :processing_inst=>\"see notes\",\n",
      "           :notes=>\n",
      "            \"https://github.com/trln/marc-to-argot/blob/master/spec/unc_oclcnum_spec.rb\",\n",
      "           :provisional=>\"n\"}]}},\n",
      "    \"value =~ /^ss([ej]|[ie]b)\\\\d+$/\"=>\n",
      "     {\"sersol_number\"=>\n",
      "       {\"sersol_number\"=>\n",
      "         [{:subfields=>\"{whole field}\",\n",
      "           :processing_type=>\"subelement_to_value\",\n",
      "           :processing_inst=>\"x\",\n",
      "           :notes=>\"x\",\n",
      "           :provisional=>\"n\"}]}},\n",
      "    \"value does not meet criteria to be OCLC Number or Sersol Number\"=>\n",
      "     {\"vendor_marc_id\"=>\n",
      "       {\"vendor_marc_id\"=>\n",
      "         [{:subfields=>\"{whole field}\",\n",
      "           :processing_type=>\"subelement_to_value\",\n",
      "           :processing_inst=>\"x\",\n",
      "           :notes=>\"x\",\n",
      "           :provisional=>\"n\"}]}}}}]\n",
      "[\"001\", {\"UNC\"=>{\"complex contraint logic\"=>{\"oclc_number\"=>{\"oclc_number[value]\"=>[{:subfields=>\"{whole field}\", :processing_type=>\"complex\", :processing_inst=>\"see notes\", :notes=>\"https://github.com/trln/marc-to-argot/blob/master/spec/unc_oclcnum_spec.rb\", :provisional=>\"n\"}]}}, \"value =~ /^ss([ej]|[ie]b)\\\\d+$/\"=>{\"sersol_number\"=>{\"sersol_number\"=>[{:subfields=>\"{whole field}\", :processing_type=>\"subelement_to_value\", :processing_inst=>\"x\", :notes=>\"x\", :provisional=>\"n\"}]}}, \"value does not meet criteria to be OCLC Number or Sersol Number\"=>{\"vendor_marc_id\"=>{\"vendor_marc_id\"=>[{:subfields=>\"{whole field}\", :processing_type=>\"subelement_to_value\", :processing_inst=>\"x\", :notes=>\"x\", :provisional=>\"n\"}]}}}}]\n",
      "[\"010\",\n",
      " {\"ALL\"=>\n",
      "   {\"none\"=>\n",
      "     {\"misc_id\"=>\n",
      "       {\"misc_id[value]\"=>\n",
      "         [{:subfields=>\"a\",\n",
      "           :processing_type=>\"subelement_to_value\",\n",
      "           :processing_inst=>\n",
      "            \"misc_id[qual]   = \\\"\\\";;;misc_id[type] = \\\"LCCN\\\"\",\n",
      "           :notes=>\"x\",\n",
      "           :provisional=>\"n\"},\n",
      "          {:subfields=>\"b\",\n",
      "           :processing_type=>\"subelement_to_value\",\n",
      "           :processing_inst=>\n",
      "            \"misc_id[qual]  = \\\"\\\";;;misc_id[type] = \\\"NUCMC\\\"\",\n",
      "           :notes=>\"x\",\n",
      "           :provisional=>\"n\"},\n",
      "          {:subfields=>\"z\",\n",
      "           :processing_type=>\"subelement_to_value\",\n",
      "           :processing_inst=>\n",
      "            \"misc_id[qual]  = \\\"\\\";;;misc_id[type] = \\\"Canceled or invalid LCCN\\\"\",\n",
      "           :notes=>\"x\",\n",
      "           :provisional=>\"n\"}]}}}}]\n",
      "[\"010\", {\"ALL\"=>{\"none\"=>{\"misc_id\"=>{\"misc_id[value]\"=>[{:subfields=>\"a\", :processing_type=>\"subelement_to_value\", :processing_inst=>\"misc_id[qual]   = \\\"\\\";;;misc_id[type] = \\\"LCCN\\\"\", :notes=>\"x\", :provisional=>\"n\"}, {:subfields=>\"b\", :processing_type=>\"subelement_to_value\", :processing_inst=>\"misc_id[qual]  = \\\"\\\";;;misc_id[type] = \\\"NUCMC\\\"\", :notes=>\"x\", :provisional=>\"n\"}, {:subfields=>\"z\", :processing_type=>\"subelement_to_value\", :processing_inst=>\"misc_id[qual]  = \\\"\\\";;;misc_id[type] = \\\"Canceled or invalid LCCN\\\"\", :notes=>\"x\", :provisional=>\"n\"}]}}}}]\n",
      "[\"100\",\n",
      " {\"ALL\"=>\n",
      "   {\"none\"=>\n",
      "     {\"names\"=>\n",
      "       {\"names[type]\"=>\n",
      "         [{:subfields=>\"{na}\",\n",
      "           :processing_type=>\"complex\",\n",
      "           :processing_inst=>\"x\",\n",
      "           :notes=>\n",
      "            \"https://github.com/trln/data-documentation/blob/master/argot/spec_docs/_pattern_names.adoc\",\n",
      "           :provisional=>\"n\"}],\n",
      "        \"names[name]\"=>\n",
      "         [{:subfields=>\"abcdgjqu\",\n",
      "           :processing_type=>\"concat_subelements\",\n",
      "           :processing_inst=>\"x\",\n",
      "           :notes=>\n",
      "            \"https://github.com/trln/data-documentation/blob/master/argot/spec_docs/_pattern_names.adoc\",\n",
      "           :provisional=>\"n\"}],\n",
      "        \"names[rel]\"=>\n",
      "         [{:subfields=>\"e4\",\n",
      "           :processing_type=>\"see documentation\",\n",
      "           :processing_inst=>\"x\",\n",
      "           :notes=>\n",
      "            \"https://github.com/trln/data-documentation/blob/master/argot/spec_docs/_pattern_names.adoc\",\n",
      "           :provisional=>\"n\"}]}},\n",
      "    \"$t present\"=>\n",
      "     {nil=>\n",
      "       {\"this_work[type]\"=>\n",
      "         [{:subfields=>\"{na}\",\n",
      "           :processing_type=>\"constant\",\n",
      "           :processing_inst=>\"\\\"type\\\":\\\"this\\\"\",\n",
      "           :notes=>\n",
      "            \"https://github.com/trln/data-documentation/blob/master/argot/spec_docs/this_work.adoc\",\n",
      "           :provisional=>\"n\"}]},\n",
      "      \"this_work\"=>\n",
      "       {\"this_work[title]\"=>\n",
      "         [{:subfields=>\"f(g)hklnpt\",\n",
      "           :processing_type=>\"array_from_subelements\",\n",
      "           :processing_inst=>\"See linked documentation\",\n",
      "           :notes=>\n",
      "            \"https://github.com/trln/data-documentation/blob/master/argot/spec_docs/this_work.adoc\",\n",
      "           :provisional=>\"n\"}]}},\n",
      "    \"100$t present OR 240 field present\"=>\n",
      "     {\"this_work\"=>\n",
      "       {\"this_work[author]\"=>\n",
      "         [{:subfields=>\"abcd(g)jqu\",\n",
      "           :processing_type=>\"concat_subelements\",\n",
      "           :processing_inst=>\"See linked documentation\",\n",
      "           :notes=>\n",
      "            \"https://github.com/trln/data-documentation/blob/master/argot/spec_docs/this_work.adoc\",\n",
      "           :provisional=>\"n\"}]}}}}]\n",
      "[\"100\", {\"ALL\"=>{\"none\"=>{\"names\"=>{\"names[type]\"=>[{:subfields=>\"{na}\", :processing_type=>\"complex\", :processing_inst=>\"x\", :notes=>\"https://github.com/trln/data-documentation/blob/master/argot/spec_docs/_pattern_names.adoc\", :provisional=>\"n\"}], \"names[name]\"=>[{:subfields=>\"abcdgjqu\", :processing_type=>\"concat_subelements\", :processing_inst=>\"x\", :notes=>\"https://github.com/trln/data-documentation/blob/master/argot/spec_docs/_pattern_names.adoc\", :provisional=>\"n\"}], \"names[rel]\"=>[{:subfields=>\"e4\", :processing_type=>\"see documentation\", :processing_inst=>\"x\", :notes=>\"https://github.com/trln/data-documentation/blob/master/argot/spec_docs/_pattern_names.adoc\", :provisional=>\"n\"}]}}, \"$t present\"=>{nil=>{\"this_work[type]\"=>[{:subfields=>\"{na}\", :processing_type=>\"constant\", :processing_inst=>\"\\\"type\\\":\\\"this\\\"\", :notes=>\"https://github.com/trln/data-documentation/blob/master/argot/spec_docs/this_work.adoc\", :provisional=>\"n\"}]}, \"this_work\"=>{\"this_work[title]\"=>[{:subfields=>\"f(g)hklnpt\", :processing_type=>\"array_from_subelements\", :processing_inst=>\"See linked documentation\", :notes=>\"https://github.com/trln/data-documentation/blob/master/argot/spec_docs/this_work.adoc\", :provisional=>\"n\"}]}}, \"100$t present OR 240 field present\"=>{\"this_work\"=>{\"this_work[author]\"=>[{:subfields=>\"abcd(g)jqu\", :processing_type=>\"concat_subelements\", :processing_inst=>\"See linked documentation\", :notes=>\"https://github.com/trln/data-documentation/blob/master/argot/spec_docs/this_work.adoc\", :provisional=>\"n\"}]}}}}]\n",
      "[\"110\",\n",
      " {\"ALL\"=>\n",
      "   {\"$t present\"=>\n",
      "     {\"this_work\"=>\n",
      "       {\"this_work[title]\"=>\n",
      "         [{:subfields=>\"(d)f(g)kl(n)pt\",\n",
      "           :processing_type=>\"array_from_subelements\",\n",
      "           :processing_inst=>\"See linked documentation\",\n",
      "           :notes=>\n",
      "            \"https://github.com/trln/data-documentation/blob/master/argot/spec_docs/this_work.adoc\",\n",
      "           :provisional=>\"n\"}]},\n",
      "      nil=>\n",
      "       {\"this_work[type]\"=>\n",
      "         [{:subfields=>\"{na}\",\n",
      "           :processing_type=>\"constant\",\n",
      "           :processing_inst=>\"\\\"type\\\":\\\"this\\\"\",\n",
      "           :notes=>\n",
      "            \"https://github.com/trln/data-documentation/blob/master/argot/spec_docs/this_work.adoc\",\n",
      "           :provisional=>\"n\"}]}},\n",
      "    \"none\"=>\n",
      "     {\"names\"=>\n",
      "       {\"names[type]\"=>\n",
      "         [{:subfields=>\"{na}\",\n",
      "           :processing_type=>\"complex\",\n",
      "           :processing_inst=>\"x\",\n",
      "           :notes=>\n",
      "            \"https://github.com/trln/data-documentation/blob/master/argot/spec_docs/_pattern_names.adoc\",\n",
      "           :provisional=>\"n\"}],\n",
      "        \"names[name]\"=>\n",
      "         [{:subfields=>\"abcdgnu\",\n",
      "           :processing_type=>\"concat_subelements\",\n",
      "           :processing_inst=>\"x\",\n",
      "           :notes=>\n",
      "            \"https://github.com/trln/data-documentation/blob/master/argot/spec_docs/_pattern_names.adoc\",\n",
      "           :provisional=>\"n\"}],\n",
      "        \"names[rel]\"=>\n",
      "         [{:subfields=>\"e4\",\n",
      "           :processing_type=>\"see documentation\",\n",
      "           :processing_inst=>\"x\",\n",
      "           :notes=>\n",
      "            \"https://github.com/trln/data-documentation/blob/master/argot/spec_docs/_pattern_names.adoc\",\n"
     ]
    },
    {
     "name": "stdout",
     "output_type": "stream",
     "text": [
      "           :provisional=>\"n\"}]}},\n",
      "    \"110$t present OR 240 field present\"=>\n",
      "     {\"this_work\"=>\n",
      "       {\"this_work[author]\"=>\n",
      "         [{:subfields=>\"abc(d)(g)(n)u\",\n",
      "           :processing_type=>\"concat_subelements\",\n",
      "           :processing_inst=>\"See linked documentation\",\n",
      "           :notes=>\n",
      "            \"https://github.com/trln/data-documentation/blob/master/argot/spec_docs/this_work.adoc\",\n",
      "           :provisional=>\"n\"}]}}}}]\n",
      "[\"110\", {\"ALL\"=>{\"$t present\"=>{\"this_work\"=>{\"this_work[title]\"=>[{:subfields=>\"(d)f(g)kl(n)pt\", :processing_type=>\"array_from_subelements\", :processing_inst=>\"See linked documentation\", :notes=>\"https://github.com/trln/data-documentation/blob/master/argot/spec_docs/this_work.adoc\", :provisional=>\"n\"}]}, nil=>{\"this_work[type]\"=>[{:subfields=>\"{na}\", :processing_type=>\"constant\", :processing_inst=>\"\\\"type\\\":\\\"this\\\"\", :notes=>\"https://github.com/trln/data-documentation/blob/master/argot/spec_docs/this_work.adoc\", :provisional=>\"n\"}]}}, \"none\"=>{\"names\"=>{\"names[type]\"=>[{:subfields=>\"{na}\", :processing_type=>\"complex\", :processing_inst=>\"x\", :notes=>\"https://github.com/trln/data-documentation/blob/master/argot/spec_docs/_pattern_names.adoc\", :provisional=>\"n\"}], \"names[name]\"=>[{:subfields=>\"abcdgnu\", :processing_type=>\"concat_subelements\", :processing_inst=>\"x\", :notes=>\"https://github.com/trln/data-documentation/blob/master/argot/spec_docs/_pattern_names.adoc\", :provisional=>\"n\"}], \"names[rel]\"=>[{:subfields=>\"e4\", :processing_type=>\"see documentation\", :processing_inst=>\"x\", :notes=>\"https://github.com/trln/data-documentation/blob/master/argot/spec_docs/_pattern_names.adoc\", :provisional=>\"n\"}]}}, \"110$t present OR 240 field present\"=>{\"this_work\"=>{\"this_work[author]\"=>[{:subfields=>\"abc(d)(g)(n)u\", :processing_type=>\"concat_subelements\", :processing_inst=>\"See linked documentation\", :notes=>\"https://github.com/trln/data-documentation/blob/master/argot/spec_docs/this_work.adoc\", :provisional=>\"n\"}]}}}}]\n",
      "[\"111\",\n",
      " {\"ALL\"=>\n",
      "   {\"$t present\"=>\n",
      "     {\"this_work\"=>\n",
      "       {\"this_work[title]\"=>\n",
      "         [{:subfields=>\"(d)f(g)kl(n)pt\",\n",
      "           :processing_type=>\"array_from_subelements\",\n",
      "           :processing_inst=>\"See linked documentation\",\n",
      "           :notes=>\n",
      "            \"https://github.com/trln/data-documentation/blob/master/argot/spec_docs/this_work.adoc\",\n",
      "           :provisional=>\"n\"}]},\n",
      "      nil=>\n",
      "       {\"this_work[type]\"=>\n",
      "         [{:subfields=>\"{na}\",\n",
      "           :processing_type=>\"constant\",\n",
      "           :processing_inst=>\"\\\"type\\\":\\\"this\\\"\",\n",
      "           :notes=>\n",
      "            \"https://github.com/trln/data-documentation/blob/master/argot/spec_docs/this_work.adoc\",\n",
      "           :provisional=>\"n\"}]}},\n",
      "    \"none\"=>\n",
      "     {\"names\"=>\n",
      "       {\"names[type]\"=>\n",
      "         [{:subfields=>\"{na}\",\n",
      "           :processing_type=>\"complex\",\n",
      "           :processing_inst=>\"x\",\n",
      "           :notes=>\n",
      "            \"https://github.com/trln/data-documentation/blob/master/argot/spec_docs/_pattern_names.adoc\",\n",
      "           :provisional=>\"n\"}],\n",
      "        \"names[name]\"=>\n",
      "         [{:subfields=>\"acdegnqu\",\n",
      "           :processing_type=>\"concat_subelements\",\n",
      "           :processing_inst=>\"x\",\n",
      "           :notes=>\n",
      "            \"https://github.com/trln/data-documentation/blob/master/argot/spec_docs/_pattern_names.adoc\",\n",
      "           :provisional=>\"n\"}],\n",
      "        \"names[rel]\"=>\n",
      "         [{:subfields=>\"j4\",\n",
      "           :processing_type=>\"see documentation\",\n",
      "           :processing_inst=>\"x\",\n",
      "           :notes=>\n",
      "            \"https://github.com/trln/data-documentation/blob/master/argot/spec_docs/_pattern_names.adoc\",\n",
      "           :provisional=>\"n\"}]}},\n",
      "    \"111$t present OR 240 field present\"=>\n",
      "     {\"this_work\"=>\n",
      "       {\"this_work[author]\"=>\n",
      "         [{:subfields=>\"ac(d)e(g)(n)qu\",\n",
      "           :processing_type=>\"concat_subelements\",\n",
      "           :processing_inst=>\"See linked documentation\",\n",
      "           :notes=>\n",
      "            \"https://github.com/trln/data-documentation/blob/master/argot/spec_docs/this_work.adoc\",\n",
      "           :provisional=>\"n\"}]}}}}]\n",
      "[\"111\", {\"ALL\"=>{\"$t present\"=>{\"this_work\"=>{\"this_work[title]\"=>[{:subfields=>\"(d)f(g)kl(n)pt\", :processing_type=>\"array_from_subelements\", :processing_inst=>\"See linked documentation\", :notes=>\"https://github.com/trln/data-documentation/blob/master/argot/spec_docs/this_work.adoc\", :provisional=>\"n\"}]}, nil=>{\"this_work[type]\"=>[{:subfields=>\"{na}\", :processing_type=>\"constant\", :processing_inst=>\"\\\"type\\\":\\\"this\\\"\", :notes=>\"https://github.com/trln/data-documentation/blob/master/argot/spec_docs/this_work.adoc\", :provisional=>\"n\"}]}}, \"none\"=>{\"names\"=>{\"names[type]\"=>[{:subfields=>\"{na}\", :processing_type=>\"complex\", :processing_inst=>\"x\", :notes=>\"https://github.com/trln/data-documentation/blob/master/argot/spec_docs/_pattern_names.adoc\", :provisional=>\"n\"}], \"names[name]\"=>[{:subfields=>\"acdegnqu\", :processing_type=>\"concat_subelements\", :processing_inst=>\"x\", :notes=>\"https://github.com/trln/data-documentation/blob/master/argot/spec_docs/_pattern_names.adoc\", :provisional=>\"n\"}], \"names[rel]\"=>[{:subfields=>\"j4\", :processing_type=>\"see documentation\", :processing_inst=>\"x\", :notes=>\"https://github.com/trln/data-documentation/blob/master/argot/spec_docs/_pattern_names.adoc\", :provisional=>\"n\"}]}}, \"111$t present OR 240 field present\"=>{\"this_work\"=>{\"this_work[author]\"=>[{:subfields=>\"ac(d)e(g)(n)qu\", :processing_type=>\"concat_subelements\", :processing_inst=>\"See linked documentation\", :notes=>\"https://github.com/trln/data-documentation/blob/master/argot/spec_docs/this_work.adoc\", :provisional=>\"n\"}]}}}}]\n",
      "\n"
     ]
    }
   ],
   "source": [
    "fix_tags.each do |m|\n",
    "  this_mapping = { :subfields => m[5],\n",
    "                   :processing_type => m[7],\n",
    "                   :processing_inst => m[8],\n",
    "                   :notes => m[9],\n",
    "                   :provisional => m[2]}\n",
    "  map_hash[m[4]][m[3]][m[6]][m[0]][m[1]] << this_mapping\n",
    "end\n",
    "map_hash.first(5).each { |h| puts pp(h) }\n",
    "puts ''"
   ]
  },
  {
   "cell_type": "markdown",
   "metadata": {},
   "source": [
    "From this, we generate a human-readable report in HTML. Here, we create the HTML file and all the parts of it that come before the dump of data."
   ]
  },
  {
   "cell_type": "code",
   "execution_count": 751,
   "metadata": {},
   "outputs": [],
   "source": [
    "hfile = File.new(\"marc_mappings.html\", \"w\")\n",
    "hfile.puts('<HTML>')\n",
    "hfile.puts('<HEAD>')\n",
    "hfile.puts('<title>Mappings from MARC to Argot</title>')\n",
    "hfile.puts(\"<style media='all' type='text/css'>\")\n",
    "hfile.puts(\"body {font-family: Helvetica Neue, sans-serif;}\")\n",
    "hfile.puts(\"h2 {text-indent: 1em;}\")\n",
    "hfile.puts(\"h3 {text-indent: 2em;}\")\n",
    "hfile.puts(\"h4 {text-indent: 3em;}\")\n",
    "hfile.puts(\".mapping {border: 1px dotted gray; margin-left: 4em; margin-bottom: 1em; padding: 0.5em;}\")\n",
    "hfile.puts(\".provisional {font-variant: small-caps; color: red; justify-content: center;}\")\n",
    "hfile.puts(\"</style>\")\n",
    "hfile.puts('</HEAD>')\n",
    "hfile.puts('<BODY>')\n",
    "hfile.puts('<h1>Mappings from MARC to Argot</h1>')\n"
   ]
  },
  {
   "cell_type": "markdown",
   "metadata": {},
   "source": [
    "Then we do a bunch of mess to translate the hash to HTML..."
   ]
  },
  {
   "cell_type": "code",
   "execution_count": 752,
   "metadata": {},
   "outputs": [
    {
     "ename": "NoMethodError",
     "evalue": "undefined method `[]' for nil:NilClass",
     "output_type": "error",
     "traceback": [
      "\u001b[31mNoMethodError\u001b[0m: undefined method `[]' for nil:NilClass",
      "\u001b[37m(pry):5565:in `block (4 levels) in <main>'\u001b[0m",
      "\u001b[37m(pry):5564:in `each'\u001b[0m",
      "\u001b[37m(pry):5564:in `block (3 levels) in <main>'\u001b[0m",
      "\u001b[37m(pry):5558:in `each'\u001b[0m",
      "\u001b[37m(pry):5558:in `block (2 levels) in <main>'\u001b[0m",
      "\u001b[37m(pry):5556:in `each'\u001b[0m",
      "\u001b[37m(pry):5556:in `block in <main>'\u001b[0m",
      "\u001b[37m(pry):5554:in `each'\u001b[0m",
      "\u001b[37m(pry):5554:in `<main>'\u001b[0m",
      "\u001b[37m/home/kspurgin/.rvm/gems/ruby-2.4.2/gems/pry-0.11.3/lib/pry/pry_instance.rb:355:in `eval'\u001b[0m",
      "\u001b[37m/home/kspurgin/.rvm/gems/ruby-2.4.2/gems/pry-0.11.3/lib/pry/pry_instance.rb:355:in `evaluate_ruby'\u001b[0m",
      "\u001b[37m/home/kspurgin/.rvm/gems/ruby-2.4.2/gems/pry-0.11.3/lib/pry/pry_instance.rb:323:in `handle_line'\u001b[0m",
      "\u001b[37m/home/kspurgin/.rvm/gems/ruby-2.4.2/gems/pry-0.11.3/lib/pry/pry_instance.rb:243:in `block (2 levels) in eval'\u001b[0m",
      "\u001b[37m/home/kspurgin/.rvm/gems/ruby-2.4.2/gems/pry-0.11.3/lib/pry/pry_instance.rb:242:in `catch'\u001b[0m",
      "\u001b[37m/home/kspurgin/.rvm/gems/ruby-2.4.2/gems/pry-0.11.3/lib/pry/pry_instance.rb:242:in `block in eval'\u001b[0m",
      "\u001b[37m/home/kspurgin/.rvm/gems/ruby-2.4.2/gems/pry-0.11.3/lib/pry/pry_instance.rb:241:in `catch'\u001b[0m",
      "\u001b[37m/home/kspurgin/.rvm/gems/ruby-2.4.2/gems/pry-0.11.3/lib/pry/pry_instance.rb:241:in `eval'\u001b[0m",
      "\u001b[37m/home/kspurgin/.rvm/gems/ruby-2.4.2/gems/iruby-0.3/lib/iruby/backend.rb:66:in `eval'\u001b[0m",
      "\u001b[37m/home/kspurgin/.rvm/gems/ruby-2.4.2/gems/iruby-0.3/lib/iruby/backend.rb:12:in `eval'\u001b[0m",
      "\u001b[37m/home/kspurgin/.rvm/gems/ruby-2.4.2/gems/iruby-0.3/lib/iruby/kernel.rb:87:in `execute_request'\u001b[0m",
      "\u001b[37m/home/kspurgin/.rvm/gems/ruby-2.4.2/gems/iruby-0.3/lib/iruby/kernel.rb:47:in `dispatch'\u001b[0m",
      "\u001b[37m/home/kspurgin/.rvm/gems/ruby-2.4.2/gems/iruby-0.3/lib/iruby/kernel.rb:37:in `run'\u001b[0m",
      "\u001b[37m/home/kspurgin/.rvm/gems/ruby-2.4.2/gems/iruby-0.3/lib/iruby/command.rb:70:in `run_kernel'\u001b[0m",
      "\u001b[37m/home/kspurgin/.rvm/gems/ruby-2.4.2/gems/iruby-0.3/lib/iruby/command.rb:34:in `run'\u001b[0m",
      "\u001b[37m/home/kspurgin/.rvm/gems/ruby-2.4.2/gems/iruby-0.3/bin/iruby:5:in `<top (required)>'\u001b[0m",
      "\u001b[37m/home/kspurgin/.rvm/gems/ruby-2.4.2/bin/iruby:23:in `load'\u001b[0m",
      "\u001b[37m/home/kspurgin/.rvm/gems/ruby-2.4.2/bin/iruby:23:in `<main>'\u001b[0m",
      "\u001b[37m/home/kspurgin/.rvm/gems/ruby-2.4.2/bin/ruby_executable_hooks:15:in `eval'\u001b[0m",
      "\u001b[37m/home/kspurgin/.rvm/gems/ruby-2.4.2/bin/ruby_executable_hooks:15:in `<main>'\u001b[0m"
     ]
    }
   ],
   "source": [
    "map_hash.each do |tag, insthash|\n",
    "  hfile.puts(\"<h2>#{tag}</h2>\")\n",
    "  insthash.each do |inst, constrainthash|\n",
    "    hfile.puts(\"<h3>Mappings for #{inst}</h3>\")\n",
    "    constrainthash.each do |constraint, afieldhash|\n",
    "      if constraint == 'none'\n",
    "        hfile.puts('<h4>IN ALL CASES...</h4>')\n",
    "      else\n",
    "        hfile.puts(\"<h4>WHEN #{constraint} THEN...</h4>\")\n",
    "      end\n",
    "      afieldhash.each do |afield, aelementhash|\n",
    "        doc = field_hash[afield][:doc]\n",
    "        doclink = doc if doc.start_with?('http')\n",
    "        docneeded = 'y' if doc.start_with?('needed')\n",
    "        \n",
    "        \n",
    "        aelementhash.each do |aelement, mappings|\n",
    "          search_in = field_hash[aelement][:indexes] unless field_hash[aelement][:indexes] == 'not indexed'\n",
    "          facet = field_hash[aelement][:facet] unless field_hash[aelement][:facet] == 'x'\n",
    "          disp_b = \"Displayed in brief record: #{field_hash[aelement][:disp_b]}\" unless field_hash[aelement][:disp_b] == 'x'\n",
    "          disp_f = \"Displayed in full record: #{field_hash[aelement][:disp_f]}\" unless field_hash[aelement][:disp_f] == 'x'\n",
    "          disp_n = \"Notes on display: #{field_hash[aelement][:disp_note]}\" unless field_hash[aelement][:disp_note] == 'x'\n",
    "          mappings.each do |m|\n",
    "            hfile.puts('<div class=\"mapping\">')\n",
    "            if m[:provisional] == 'y'\n",
    "              hfile.puts('<div class=\"provisional\">Provisional mapping</div>')\n",
    "            end\n",
    "            if m[:processing_type] == 'constant'\n",
    "              hfile.puts(\"<b>Constant value: #{aelement} = #{m[:processing_inst].split(':')[1].gsub('\"', '')}</b>\")\n",
    "            elsif m[:processing_type] == 'DO NOT SET'\n",
    "              hfile.puts(\"<b>Do not set #{aelement} value</b>\")\n",
    "            else\n",
    "              hfile.puts(\"<b>#{m[:subfields]} => #{aelement}</b>\")\n",
    "            end\n",
    "            \n",
    "            case m[:processing_type]\n",
    "              when 'array_from_subelements'\n",
    "               xform_type = 'Contents of each subfield becomes separate element in array. <i>Example: $a cat $b dog $c fish => [\"cat\", \"dog\", \"fish\"]</i>'\n",
    "              when 'concat_subelements'\n",
    "               xform_type = 'Contents of subfields joined together into one string, separated by space. <i>Example: $a cat $b dog $c fish => \"cat dog fish\"</i>'\n",
    "              when 'map subelement to value'\n",
    "               xform_type = 'Subfield value is a code, which is translated into a human readable value and becomes element in array. <i>Example: $a eng $b ger=> [\"English\", \"German\"]</i>'\n",
    "              when 'map indicator value'\n",
    "               xform_type = 'Indicator value is translated into human readable value. <i>Example: 246 i2=4 => \"Cover title\"</i>'\n",
    "            end\n",
    "            \n",
    "            unless m[:processing_type] == 'constant'\n",
    "              hfile.puts(\"<br />Processing method: #{xform_type}\") if xform_type\n",
    "              hfile.puts(\"<br />Special mapping instructions: #{m[:processing_inst]}\") unless m[:processing_inst] =~ /^(See linked|x)/\n",
    "            end\n",
    "            \n",
    "            hfile.puts(\"<br />&nbsp;<br />\")\n",
    "            \n",
    "            if search_in\n",
    "              hfile.puts(\"Searchable as: #{search_in.split(';;;').join(', ')}\")\n",
    "            else\n",
    "              hfile.puts(\"<br />Not searchable\")\n",
    "            end\n",
    "            hfile.puts(\"<br />#{disp_b}\") if disp_b\n",
    "            hfile.puts(\"<br />#{disp_f}\") if disp_f\n",
    "            hfile.puts(\"<br />#{disp_n}\") if disp_n\n",
    "            \n",
    "            hfile.puts(\"<br />&nbsp;<br />\")\n",
    "            \n",
    "            if doclink\n",
    "              hfile.puts(\"For details, see <a href=\\\"#{doclink}\\\">documentation on Argot field: #{afield}</a>\")\n",
    "            elsif docneeded == 'y'\n",
    "              hfile.puts(\"More details forthcoming in documentation to be written for Argot field: #{afield}\")\n",
    "            end\n",
    "            \n",
    "            hfile.puts('</div>')\n",
    "          end\n",
    "        end\n",
    "      end\n",
    "    end\n",
    "  end\n",
    "end"
   ]
  },
  {
   "cell_type": "code",
   "execution_count": 753,
   "metadata": {},
   "outputs": [],
   "source": [
    "hfile.puts('</BODY>')\n",
    "hfile.puts('</HTML>')\n",
    "hfile.close"
   ]
  }
 ],
 "metadata": {
  "kernelspec": {
   "display_name": "Ruby 2.4.2",
   "language": "ruby",
   "name": "ruby"
  },
  "language_info": {
   "file_extension": ".rb",
   "mimetype": "application/x-ruby",
   "name": "ruby",
   "version": "2.4.2"
  }
 },
 "nbformat": 4,
 "nbformat_minor": 2
}
