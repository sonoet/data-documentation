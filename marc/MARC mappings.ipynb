{
 "cells": [
  {
   "cell_type": "markdown",
   "metadata": {},
   "source": [
    "# MARC mappings\n",
    "This notebook generates and allows you to view the mapping of MARC to the Argot data language used by TRLN Discovery."
   ]
  },
  {
   "cell_type": "markdown",
   "metadata": {},
   "source": [
    "First I need to bring in the mappings data from the Excel file that lives at https://github.com/trln/data-documentation/blob/master/argot/argot.xlsx \n",
    "\n"
   ]
  },
  {
   "cell_type": "code",
   "execution_count": 23,
   "metadata": {},
   "outputs": [
    {
     "name": "stdout",
     "output_type": "stream",
     "text": [
      "\n"
     ]
    }
   ],
   "source": [
    "require 'pp'\n",
    "require 'simple_xlsx_reader'\n",
    "doc = SimpleXlsxReader.open('../argot/argot.xlsx')\n",
    "mappings_d = doc.sheets[1].data\n",
    "mappings_h = doc.sheets[1].headers\n",
    "puts ''\n"
   ]
  },
  {
   "cell_type": "markdown",
   "metadata": {},
   "source": [
    "Then I want to see my headers along with the column number for each:"
   ]
  },
  {
   "cell_type": "code",
   "execution_count": 22,
   "metadata": {},
   "outputs": [
    {
     "name": "stdout",
     "output_type": "stream",
     "text": [
      "0 -- parentfield\n",
      "1 -- field\n",
      "2 -- source data format\n",
      "3 -- provisional?\n",
      "4 -- institution\n",
      "5 -- element/field\n",
      "6 -- subelement/field(s)\n",
      "7 -- constraints\n",
      "8 -- processing_type\n",
      "9 -- processing instructions\n",
      "10 -- notes\n",
      "11 -- mapping_id\n",
      "12 -- mapping issue ct\n",
      "13 -- field issue ct\n",
      "14 -- field defined?\n",
      "15 -- done in mta?\n",
      "16 -- tests done?\n",
      "\n"
     ]
    }
   ],
   "source": [
    "mappings_h.each { |h| puts \"#{mappings_h.index(h)} -- #{h}\"}\n",
    "puts ''"
   ]
  },
  {
   "cell_type": "markdown",
   "metadata": {},
   "source": [
    "Then, I throw out mappings that are not from standard MARC source data and take a look at the data."
   ]
  },
  {
   "cell_type": "code",
   "execution_count": 35,
   "metadata": {},
   "outputs": [
    {
     "name": "stdout",
     "output_type": "stream",
     "text": [
      "Number of mappings: 669\n",
      "[\"derived_work_note\", \"derived_work_note\", \"MARC\", \"n\", \"GEN\", \"581\", \"az3\", \"none\", \"see notes\", \"$3 label; prepend ISBN to $z value\", \"x\", \"derived_work_noteGEN581az3none\", \"0\", \"0\", \"n\", nil, nil]\n",
      "[\"donor\", \"donor[value]\", \"MARC\", \"n\", \"UNC\", \"790\", \"abcdgqu\", \"ind 1 = 0\", \"concat_subelements\", \"Prepend: \\\"Donated by \\\"\", \".\", \"donor[value]UNC790abcdgquind 1 = 0\", \"0\", \"0\", \"n\", \"y\", \"y\"]\n",
      "[\"donor\", \"donor[value]\", \"MARC\", \"n\", \"UNC\", \"791\", \"abcdfg\", \"ind 1 = 2\", \"concat_subelements\", \"Prepend: \\\"Purchased using funds from the \\\"\", \".\", \"donor[value]UNC791abcdfgind 1 = 2\", \"0\", \"0\", \"n\", \"y\", \"y\"]\n",
      "\n"
     ]
    }
   ],
   "source": [
    "marc_only = mappings_d.select{ |r| r[2] == \"MARC\"}\n",
    "puts \"Number of mappings: #{marc_only.size}\"\n",
    "marc_only.first(3).each { |m| puts m}\n",
    "puts ''"
   ]
  },
  {
   "cell_type": "markdown",
   "metadata": {},
   "source": [
    "There's a lot of info here we don't need, so I'm going to keep only what we need: \n",
    "* 0 -- parentfield\n",
    "* 1 -- field\n",
    "* 3 -- provisional?\n",
    "* 4 -- institution\n",
    "* 5 -- element/field\n",
    "* 6 -- subelement/field(s)\n",
    "* 7 -- constraints"
   ]
  },
  {
   "cell_type": "code",
   "execution_count": 41,
   "metadata": {},
   "outputs": [
    {
     "name": "stdout",
     "output_type": "stream",
     "text": [
      "[\"derived_work_note\", \"derived_work_note\", \"n\", \"GEN\", \"581\", \"az3\", \"none\"]\n",
      "[\"donor\", \"donor[value]\", \"n\", \"UNC\", \"790\", \"abcdgqu\", \"ind 1 = 0\"]\n",
      "[\"donor\", \"donor[value]\", \"n\", \"UNC\", \"791\", \"abcdfg\", \"ind 1 = 2\"]\n",
      "\n"
     ]
    }
   ],
   "source": [
    "less_data = marc_only.map { |m| [m[0], m[1], m[3], m[4], m[5], m[6], m[7]]}\n",
    "less_data.first(3).each { |m| puts m}\n",
    "puts ''"
   ]
  },
  {
   "cell_type": "markdown",
   "metadata": {},
   "source": [
    "Sort by MARC tag and print out the first 20"
   ]
  },
  {
   "cell_type": "code",
   "execution_count": 43,
   "metadata": {},
   "outputs": [
    {
     "name": "stdout",
     "output_type": "stream",
     "text": [
      "[\"oclc_number\", \"oclc_number[value]\", \"n\", \"UNC\", \"1\", \".\", \"see notes\"]\n",
      "[\"sersol_number\", \"sersol_number\", \"n\", \"UNC\", \"1\", \"{na}\", \"value =~ /^ss([ej]|[ie]b)\\\\d+$/\"]\n",
      "[\"vendor_marc_id\", \"vendor_marc_id\", \"n\", \"UNC\", \"1\", \"{na}\", \"value does not meet criteria to be OCLC Number or Sersol Number\"]\n",
      "[\"misc_id\", \"misc_id[value]\", \"n\", \"GEN\", \"10\", \"a\", \"none\"]\n",
      "[\"misc_id\", \"misc_id[value]\", \"n\", \"GEN\", \"10\", \"b\", \"none\"]\n",
      "[\"misc_id\", \"misc_id[value]\", \"n\", \"GEN\", \"10\", \"z\", \"none\"]\n",
      "[\"this_work\", \"this_work[author]\", \"n\", \"GEN\", \"100\", \"abcd(g)jqu\", \"none\"]\n",
      "[\"names\", \"names[name]\", \"n\", \"GEN\", \"100\", \"abcdgjqu\", \"none\"]\n",
      "[\"names\", \"names[rel]\", \"n\", \"GEN\", \"100\", \"e4\", \"none\"]\n",
      "[\"this_work\", \"this_work[title]\", \"n\", \"GEN\", \"100\", \"f(g)hklnpt\", \"100$t\"]\n",
      "[\"names\", \"names[type]\", \"n\", \"GEN\", \"100\", \"{na}\", \"none\"]\n",
      "[\"this_work\", \"this_work[title]\", \"n\", \"GEN\", \"110\", \"(d)f(g)kl(n)pt\", \"110$t\"]\n",
      "[\"this_work\", \"this_work[author]\", \"n\", \"GEN\", \"110\", \"abc(d)(g)(n)u\", \"none\"]\n",
      "[\"names\", \"names[name]\", \"n\", \"GEN\", \"110\", \"abcdgnu\", \"none\"]\n",
      "[\"names\", \"names[rel]\", \"n\", \"GEN\", \"110\", \"e4\", \"none\"]\n",
      "[\"names\", \"names[type]\", \"n\", \"GEN\", \"110\", \"{na}\", \"none\"]\n",
      "[\"this_work\", \"this_work[title]\", \"n\", \"GEN\", \"111\", \"(d)f(g)kl(n)pt\", \"111$t\"]\n",
      "[\"this_work\", \"this_work[author]\", \"n\", \"GEN\", \"111\", \"ac(d)e(g)(n)qu\", \"none\"]\n",
      "[\"names\", \"names[name]\", \"n\", \"GEN\", \"111\", \"acdegnqu\", \"none\"]\n",
      "[\"names\", \"names[rel]\", \"n\", \"GEN\", \"111\", \"j4\", \"none\"]\n",
      "\n"
     ]
    }
   ],
   "source": [
    "less_data.sort! {|a,b| a[4] <=> b[4]}\n",
    "less_data.first(20).each { |m| puts m }\n",
    "puts ''"
   ]
  },
  {
   "cell_type": "markdown",
   "metadata": {},
   "source": [
    "Our MARC tags beginning with zeros need to be padded out, so let's fix that. "
   ]
  },
  {
   "cell_type": "code",
   "execution_count": 44,
   "metadata": {},
   "outputs": [
    {
     "name": "stdout",
     "output_type": "stream",
     "text": [
      "[\"oclc_number\", \"oclc_number[value]\", \"n\", \"UNC\", \"001\", \".\", \"see notes\"]\n",
      "[\"sersol_number\", \"sersol_number\", \"n\", \"UNC\", \"001\", \"{na}\", \"value =~ /^ss([ej]|[ie]b)\\\\d+$/\"]\n",
      "[\"vendor_marc_id\", \"vendor_marc_id\", \"n\", \"UNC\", \"001\", \"{na}\", \"value does not meet criteria to be OCLC Number or Sersol Number\"]\n",
      "[\"misc_id\", \"misc_id[value]\", \"n\", \"GEN\", \"010\", \"a\", \"none\"]\n",
      "[\"misc_id\", \"misc_id[value]\", \"n\", \"GEN\", \"010\", \"b\", \"none\"]\n",
      "\n"
     ]
    }
   ],
   "source": [
    "fix_tags = less_data.each { |m| m[4] = m[4].rjust(3,'0') }\n",
    "fix_tags.first(5).each { |m| puts m}\n",
    "puts ''"
   ]
  },
  {
   "cell_type": "markdown",
   "metadata": {},
   "source": [
    "We get rid of mappings where a constant value is provided."
   ]
  },
  {
   "cell_type": "code",
   "execution_count": 30,
   "metadata": {},
   "outputs": [
    {
     "name": "stdout",
     "output_type": "stream",
     "text": [
      "Number of mappings: 669\n"
     ]
    }
   ],
   "source": [
    "no_constants = marc_only.reject{ |r| r[5] == 'na'}\n",
    "puts \"Number of mappings: #{no_constants.size}\""
   ]
  },
  {
   "cell_type": "code",
   "execution_count": null,
   "metadata": {},
   "outputs": [],
   "source": []
  }
 ],
 "metadata": {
  "kernelspec": {
   "display_name": "Ruby 2.4.2",
   "language": "ruby",
   "name": "ruby"
  },
  "language_info": {
   "file_extension": ".rb",
   "mimetype": "application/x-ruby",
   "name": "ruby",
   "version": "2.4.2"
  }
 },
 "nbformat": 4,
 "nbformat_minor": 2
}
